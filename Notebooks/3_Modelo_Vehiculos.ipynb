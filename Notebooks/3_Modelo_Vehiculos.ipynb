{
  "cells": [
    {
      "cell_type": "markdown",
      "metadata": {
        "id": "view-in-github",
        "colab_type": "text"
      },
      "source": [
        "<a href=\"https://colab.research.google.com/github/matiaspoullain/Herramientas-cuantitativas-Contaminacion-aire-y-vehiculos/blob/main/Notebooks/3_Modelo_Vehiculos.ipynb\" target=\"_parent\"><img src=\"https://colab.research.google.com/assets/colab-badge.svg\" alt=\"Open In Colab\"/></a>"
      ]
    },
    {
      "cell_type": "markdown",
      "source": [
        "# Notebook 3: Modelado del conteo vehicular en CABA\n",
        "En esta notebook vamos modelar el conteo vehicular en CABA previo a la cuarentena con un modelo Prophet. Este modelo debe ser capaz de \"entender\" las estacionalidades que observamos anteriormente en los datos (diaria, semanal) y además incorporar los efectos de los feriados y variables meteorológicas externas.\n",
        "\n",
        "Finalmente, utilizaremos el modelo entrenado para extrapolar el conteo vehicular a la cuarentena, obteniendo el \"cómo hubiese sido\" del conteo vehicular de no haber habido cuarentena, según el modelo.\n",
        "\n",
        "##1. Librerías y datos\n",
        "En primer lugar cargamos las librerías necesarias. Notarán que además de cargarlas, algunas fueron desinstaladas y otras instaladas. Esto se debe a un problema con las versiones de estas librerías en Colab y que puede devolver algún error o advertencia cuando se las usa.\n",
        "\n",
        "Además, se descarga el repositorio de este práctico (https://github.com/matiaspoullain/Herramientas-cuantitativas-Contaminacion-aire-y-vehiculos) donde se encuentran todos los datos y modelos que se usarán.\n",
        "\n",
        "Corra las siguientes líneas de código. Puede demorar unos pocos minutos."
      ],
      "metadata": {
        "id": "cfyPGxPPeHbj"
      }
    },
    {
      "cell_type": "code",
      "execution_count": null,
      "metadata": {
        "id": "7r5NBD2UM-5Q"
      },
      "outputs": [],
      "source": [
        "## Instalado de versiones compatibles ##\n",
        "!pip uninstall fbprophet -y\n",
        "!pip install cmdstanpy==0.9.68\n",
        "!pip install pystan==2.19.1.1\n",
        "!pip install prophet\n",
        "\n",
        "## Carga de librerías ##\n",
        "from prophet import Prophet\n",
        "import pandas as pd\n",
        "import seaborn as sns\n",
        "import matplotlib.pyplot as plt\n",
        "import datetime as dt\n",
        "import json\n",
        "from prophet.utilities import regressor_coefficients\n",
        "from prophet.serialize import model_from_json\n",
        "\n",
        "## Descarga del repositorio ##\n",
        "!git clone https://github.com/matiaspoullain/Herramientas-cuantitativas-Contaminacion-aire-y-vehiculos.git\n",
        "!unzip Herramientas-cuantitativas-Contaminacion-aire-y-vehiculos/Modelos/Modelo_vehiculos.zip"
      ]
    },
    {
      "cell_type": "markdown",
      "source": [
        "Se cargan los datos, en primer lugar la información de conteo vehicular. Particularmente, Prophet necesita de input un DataFrame o matríz con al menos dos columnas de nombres:\n",
        "\n",
        "\n",
        "1.   **ds**: Contiene la información del tiempo, debe estar en formato *datetime* y sin un timezone. En este caso son todas las horas desde 01/01/2019 00:00:00 hasta 19/03/2020 23:00:00\t(previo a la cuarentena)\n",
        "2.   **y**: Es la variable respuesta. En este caso es el logaritmo en base 10 del conteo de vehículos que atravesaron los peajes de CABA en su respectiva hora **ds**. La transformación log10 de la variable fue importante ya que fuerza a que las predicciones en escala real sean positivas.\n",
        "\n",
        "\n",
        "También se pueden agregar otras columnas que funcionan como regresoras adicionales. En este caso se agregaron:\n",
        "\n",
        "\n",
        "\n",
        "1.   **precipitaciones**: Ocurrencia de precipitaciones en la hora **ds** (1: Ocurrencia, 0: No ocurrencia)\n",
        "2.   **temperatura**: Temperatura media ocurrida en la hora **ds**, en °C.\n",
        "3.   **es_finde**: Indicador lógico que diferencia las horas **ds** que pertenecen al fin de semana de las que no.\n",
        "4.   **es_semana**: Similar a **es_finde** pero para los días de semana."
      ],
      "metadata": {
        "id": "x30MCuCzsl8m"
      }
    },
    {
      "cell_type": "code",
      "execution_count": null,
      "metadata": {
        "id": "_TWrNPD1Ojpf"
      },
      "outputs": [],
      "source": [
        "df_prophet = pd.read_csv('Herramientas-cuantitativas-Contaminacion-aire-y-vehiculos/Datos/df_prophet_train.csv')\n",
        "\n",
        "df_prophet['ds'] = pd.to_datetime(df_prophet['ds'], format = '%Y-%m-%dT%H:%M:%SZ')\n",
        "df_prophet['ds'] = df_prophet['ds'].dt.tz_localize(None) #quito el timezone\n",
        "\n",
        "df_prophet"
      ]
    },
    {
      "cell_type": "markdown",
      "source": [
        "La información de feriados se incorpora en un DataFrame o matríz distinto. Este dataframe tiene que tener las columnas:\n",
        "\n",
        "1.   **ds**: En este caso, como los feriados son diarios (y no horarios), la resolución de **ds** es diaria.\n",
        "2.   **holiday**: Denominación o nombre del feriado. Es importante que el mismo feriado en años distintos tenga el mismo nombre, de lo contrario el modelo los tomará como feriados distintos."
      ],
      "metadata": {
        "id": "CHHyLNMfve_k"
      }
    },
    {
      "cell_type": "code",
      "execution_count": null,
      "metadata": {
        "id": "_ag9Ak1ifyNE"
      },
      "outputs": [],
      "source": [
        "feriados = pd.read_csv('Herramientas-cuantitativas-Contaminacion-aire-y-vehiculos/Datos/feriados.csv')\n",
        "feriados"
      ]
    },
    {
      "cell_type": "markdown",
      "source": [
        "##2. Entrenamiento del modelo\n",
        "Dada la cantidad de información incorporada y la cantidad de estacionalidades a detectar, es necesario que el modelo realice muchas cadenas de Markov (parámetro *mcmc_samples*) para que las estimaciones sean buenas. En este caso, para alcanzar una buena estimación, se necesitó ```mcmc_samples = 1000```. En consecuencia, el entrenamiento demora varias horas, por lo que el modelo fue previamente entrenado y guardado utilizando el siguiente código:\n",
        "\n",
        "```python\n",
        "## Entrenamiento del modelo ##\n",
        "m = Prophet(growth = \"flat\",\n",
        "            changepoint_range = 0.8, #No se usa por que growth = \"flat\"\n",
        "            changepoint_prior_scale = 0.05, #No se usa por que growth = \"flat\"\n",
        "            n_changepoint = 25, #No se usa por que growth = \"flat\"\n",
        "            yearly_seasonality = True,\n",
        "            daily_seasonality = False, #Se separa en semana y finde con add_seasonality, más abajo\n",
        "            weekly_seasonality = True,\n",
        "            mcmc_samples = 1000, #Cuanto más mejor pero tarda mucho...\n",
        "            seasonality_mode = \"additive\", #Siendo que esta todo en log, al reconvertirlo a identidad las relaciones son multiplicativas\n",
        "            seasonality_prior_scale = 0.827,\n",
        "            uncertainty_samples = 2000,\n",
        "            holidays=feriados,\n",
        "            holidays_prior_scale = 0.0198)\n",
        "\n",
        "m.add_seasonality(\"diaria_semana\", 1, mode = \"additive\", condition_name = \"es_semana\", fourier_order = 5) #Tendencia diaria dia de semana\n",
        "m.add_seasonality(\"diaria_finde\", 1, mode = \"additive\", condition_name = \"es_finde\", fourier_order = 5) #Tendencia diaria fin de semana\n",
        "m.add_regressor(\"precipitaciones\", mode = \"additive\") #Regresor precipitaciones\n",
        "m.add_regressor(\"temperatura\", mode = \"additive\") #Regresor temperatura\n",
        "\n",
        "m.fit(df_prophet, control={'max_treedepth': 30}) #Menos que esto suele tirar un warining para este problema en particular\n",
        "\n",
        "\n",
        "## Guardado del modelo ##\n",
        "import json\n",
        "from prophet.serialize import model_to_json\n",
        "with open('Modelo_vehiculos.json', 'w') as fout:\n",
        "    json.dump(model_to_json(m), fout)\n",
        "```\n",
        "\n",
        "Los parámetros de la función para el entrenamiento del modelo son:\n",
        "\n",
        "\n",
        "*   ```growth```: Función basal de la tendencia. Puede tomar los valores de ```\"linear\"```, ```\"logistic\"``` o ```\"flat\"```. En este caso, usaremos ```\"flat\"``` ya que, con solo un poco mas de un año, no se puede observar claramente un cambio de tendencia\n",
        "*   ```changepoint_range```, ```changepoint_prior_scale```  y ```n_changepoint```: Son los parámetros que regulan la cantidad y sensibilidad de los cambios de tendencia a detectar. Como ```growth = \"flat\"```, estos parámetros no importan en este caso.\n",
        "*   ```yearly_seasonality```, ```weekly_seasonality``` y ```daily_seasonality```: Booleanos aunque también pueden tomar el valor ```\"auto\"```. Indican si el modelo debe buscar y ajustar una estacionalidad anual, semanal y/o diaria. En este caso ```daily_seasonality = False``` ya que nos interasa diferencias los fines de semana de los días de semana que se explicita con ```m.add_seasonality```.\n",
        "*   ```seasonality_mode```: Puede ser ```\"additive\"``` o ```\"multiplicative\"```. En este casos se selecciona \"additive\": como la variable respuesta **y** está en escala logaritmica, su transformación a escala real implica una multiplicación de las estacionalidades.\n",
        "*   ```seasonality_prior_scale```: Valor prior de variabilidad de todas las estacionalidades para la regresión bayesiana. A más información de los datos, menor es la importancia de del valor explicitado. Los autores recomiendan valores entre 0.01 y 10.\n",
        "*   ```holidays``` y ```holidays_prior_scale```: DataFrame de feriados y valor prior de variabilidad deel efecto de los feriados para la regresión bayesiana. A más información de los datos, menor es la importancia de del valor explicitado. Los autores recomiendan valores entre 0.01 y 10.\n",
        "*   ```mcmc_samples```: Número de cadenas de Markov a realizar para las regresiones bayesianas. Si ```mcmc_samples = 0```, la estimación no es por rergesión bayesiana sino por MAP. A datos complejos se recomienda un valor alto, a costa de tiempo de computo.\n",
        "*   ```uncertainty_samples```: Número de simulaciones realizadas para estimación de los intervalos de incerteza. Cuanto mayor sea el número, mejor será la estimación a costa de tiempo de computo.\n",
        "\n",
        "\n",
        "Además, al modelo se le incorporan:\n",
        "\n",
        "*   ```add_seasonality```: Agrega una estacionalidad específica. Debe especificarse una denominacion, un largo de período (en días) y la cantidad de harmónicos de Fourier. En este caso se agregan 2: estacionalidad diaria para días de la semana y otra para diás del fin de semana. Los datos pertenecientes a una u otra se diferencian por las columnas *es_semana* y *es_finde* del DataFrame.\n",
        "*   ```add_regressor```: Agrega una variable explicativa. Se debe indicar la columna correspondiente del DataFrame.\n",
        "\n",
        "\n",
        "Estos son algunos de los parámetros y funciones que se pueden especificar, para más información puede consultar https://facebook.github.io/prophet/ o corriendo ```help(Prophet)```. También puede entrenar el mismo modelo en R donde la sintaxis es muy similar y puede ver como hacerlo en desde el mismo link. La documentación del paquete para R se encuentra en https://cran.r-project.org/web/packages/prophet/prophet.pdf. No existe una documentación tan detallada en Python por lo que ésta es útil para ambos lenguajes.\n",
        "\n",
        "\n",
        "\n",
        "---\n",
        "\n",
        "A continuación se carga el modelo ya entrenado y guardado en el archivo *Modelo_vehiculos.json*:\n"
      ],
      "metadata": {
        "id": "rF_gbC2tcP5D"
      }
    },
    {
      "cell_type": "code",
      "source": [
        "with open('Modelo_vehiculos.json', 'r') as fin:\n",
        "    m = model_from_json(json.load(fin))  # Load model\n",
        "\n",
        "resultados = m.predict(df_prophet)"
      ],
      "metadata": {
        "id": "Ykjn2TgOZQaM"
      },
      "execution_count": null,
      "outputs": []
    },
    {
      "cell_type": "markdown",
      "source": [
        "##3. Análisis de las estimaciones del modelo\n",
        "El método ```m.predict(df_prophet)``` devuelve las predicciones del modelo sobre el DataFrame ```df_prophet``` en formato DataFrame. Las columnas nuevas son:\n",
        "\n",
        "\n",
        "*   **trend**, **trend_lower**, **trend_upper**: Valores de la tendencia estimada y su intervalo de incertidumbre (valor inferior y superior) respectivamente.\n",
        "*   **yearly**, **yearly_lower**, **yearly_upper**: Valores de la variación de la variable respuesta producto de por la estacionalidad anual estimada y su intervalo de incertidumbre (valor inferior y superior) respectivamente.\n",
        "*   **weekly**, **weekly_lower**, **weekly_upper**: Lo mismo para la estacionalidad semanal.\n",
        "*   **diaria_semana**, **diaria_semana_lower**, **diaria_semana_upper**: Lo mismo para la estacionalidad diaria de los días de la semana.\n",
        "*   **diaria_finde**, **diaria_finde_lower**, **diaria_finde_upper**: Lo mismo para la estacionalidad diaria de los días del fin de semana.\n",
        "*   ***feriado***, ***feriado*_lower**, ***feriado*_upper**: Valores de la variación de la variable respuesta producto del respectivo feriado estimada y su intervalo de incertidumbre (valor inferior y superior) respectivamente.\n",
        "*   **temperatura**, **temperatura_lower**, **temperatura_upper**: Lo mismo para la **temperatura**\n",
        "*   **precipitaciones**, **precipitaciones**, **precipitaciones**: Lo mismo para las **precipitaciones**\n",
        "*   **extra_regressors_additive**, **extra_regressors_additive_lower**, **extra_regressors_additive_upper**: Suma de los valores de variación de todas las variables regresoras aditivas (**precipitaciones** y **temperatura**)\n",
        "*   **multiplicative_terms**, **multiplicative_terms_lower**, **multiplicative_terms_upper**: Lo mismo para las variables multiplicativas (ninguna en este caso)\n",
        "*   **yhat**, **yhat_lower**, **yhat_upper**: Valores predichos de la variable respuesta y su intervalo de incertidumbre (valor inferior y superior) respectivamente."
      ],
      "metadata": {
        "id": "Q5eHOh39RbM6"
      }
    },
    {
      "cell_type": "code",
      "source": [
        "resultados.head()"
      ],
      "metadata": {
        "id": "PFs2TUjoaqMz"
      },
      "execution_count": null,
      "outputs": []
    },
    {
      "cell_type": "markdown",
      "source": [
        "Estos resultados se pueden visualizar fácilmente con el comando ```m.plot_components(resultados)```:\n",
        "\n"
      ],
      "metadata": {
        "id": "5GYfy-QXXDSY"
      }
    },
    {
      "cell_type": "code",
      "source": [
        "fig = m.plot_components(resultados)"
      ],
      "metadata": {
        "id": "fhoZ7gpIe1WK"
      },
      "execution_count": null,
      "outputs": []
    },
    {
      "cell_type": "markdown",
      "source": [
        "*   ¿Cómo es la tendencia estimada?\n",
        "*   Observe las estacionalidades ¿Se corresponden a lo observado en la descriptiva? ¿Cuáles son las principales diferencias entre los días de la semana y los del fin de semana?\n",
        "*   Observe el efecto de los feriados. Algunos tienen un efecto positivo y otros negativo sobre el conteo vehicular. ¿Como podemos observar cuales tienen un efecto \"significativo\"? ¿Puede identificar alguno? ¿Cuales son los feriados que parecieran tener el efecto más importante?\n",
        "*   Observe el efecto de los regresores extra ¿Qué variables están incluídas ahí? ¿Como pareciera ser su efecto sobre el conteo vehicular?\n",
        "\n",
        "\n",
        "El efecto aditivo (y su intervalo de incerteza) de las variables adcionales puede obtenerse con la función ```regressor_coefficients(m)```.\n",
        "\n"
      ],
      "metadata": {
        "id": "GGtBd2CCXZSH"
      }
    },
    {
      "cell_type": "code",
      "source": [
        "coeficientes = regressor_coefficients(m)\n",
        "coeficientes"
      ],
      "metadata": {
        "id": "4ZCTOoqEbS27"
      },
      "execution_count": null,
      "outputs": []
    },
    {
      "cell_type": "markdown",
      "source": [
        "A continuación se graficaron estas estimaciones. Se considera que un intervalo de incerteza que no contiene al 0 es significativo."
      ],
      "metadata": {
        "id": "CVKWgIFkctTd"
      }
    },
    {
      "cell_type": "code",
      "source": [
        "fig, ax = plt.subplots(figsize=(10, 7))\n",
        "for lower, upper, center, y in zip(coeficientes['coef_lower'], coeficientes['coef_upper'], coeficientes['coef'], range(len(coeficientes))):\n",
        "  ax.plot((lower,upper),(y,y),'d-',color='orange')\n",
        "  ax.scatter(center, y, color='orange')\n",
        "plt.yticks(range(len(coeficientes)),list(coeficientes['regressor']))\n",
        "ax.axvline(x=0, linestyle = 'dashed')\n",
        "plt.show()"
      ],
      "metadata": {
        "id": "RSlNCmiKcG9T"
      },
      "execution_count": null,
      "outputs": []
    },
    {
      "cell_type": "markdown",
      "source": [
        "\n",
        "\n",
        "*   ¿Cómo afectan la temperatura y la precipitación al conteo vehicular?\n",
        "\n",
        "\n",
        "\n",
        "Estudiemos cómo es el ajuste del modelo. Observemos los predichos y los observados. Modifique el código siguiente para explorar el ajuste del modelo a distintas fechhas y en escala logaritmica o de la variable respuesta.\n",
        "\n",
        "El objeto ```escala_logaritmica``` define si se grafica al logaritmo del conteo vehicular (```escala_logaritmica = True```) o bien al conteo vehicular sin transformación logaritmica (```escala_logaritmica = False```). Recuerde que las fechas deben conservar el formato 'YYYY-MM-DD' y que las fechas mínimas y máximas son \"2019-01-01\" y \"2020-03-20\"\n",
        "\n"
      ],
      "metadata": {
        "id": "zb8xMkzMduO4"
      }
    },
    {
      "cell_type": "code",
      "source": [
        "##### Modifique las siguientes líneas de código #####\n",
        "fecha_inicial = \"2019-01-01\"\n",
        "fecha_final = \"2020-03-20\"\n",
        "escala_logaritmica = False  # True o False\n",
        "\n",
        "\n",
        "\n",
        "##### NO modifique las siguientes líneas de código #####\n",
        "df_total = df_prophet.merge(resultados, on='ds', how='left')\n",
        "\n",
        "if escala_logaritmica == False:\n",
        "  df_total['y'] = 10**df_total['y']\n",
        "  df_total['yhat'] = 10**df_total['yhat']\n",
        "  df_total['yhat_lower'] = 10**df_total['yhat_lower']\n",
        "  df_total['yhat_upper'] = 10**df_total['yhat_upper']\n",
        "\n",
        "df_total = df_total[(df_total['ds'] >= fecha_inicial) & (df_total['ds'] <= fecha_final)]\n",
        "\n",
        "fig, ax = plt.subplots(figsize=(30, 15))\n",
        "ax.plot(df_total['ds'], df_total['yhat'], label='Predicho')\n",
        "ax.plot(df_total['ds'], df_total['yhat_lower'], color='tab:blue', alpha=0.1)\n",
        "ax.plot(df_total['ds'], df_total['yhat_upper'], color='tab:blue', alpha=0.1)\n",
        "ax.fill_between(df_total['ds'], df_total['yhat_lower'], df_total['yhat_upper'], alpha=0.2, label='Incerteza')\n",
        "ax.scatter(df_total['ds'], df_total['y'], color='black', label='Observado')\n",
        "ax.legend(loc=\"upper left\")\n",
        "ax.set_xlabel('Fecha')\n",
        "ax.set_ylabel('Conteo vehicular por hora')\n",
        "plt.show()"
      ],
      "metadata": {
        "id": "KkGbueJZexH6"
      },
      "execution_count": null,
      "outputs": []
    },
    {
      "cell_type": "markdown",
      "source": [
        "Otro gráfico clásico que se puede utilizar es el de observados vs predichos.\n",
        "En esta ocasión, además puede incorporar las barras de incertidumbre de los predichos con el objeto ```barras_de_incertidumbre```\n",
        "\n"
      ],
      "metadata": {
        "id": "xPVjZAfmpSch"
      }
    },
    {
      "cell_type": "code",
      "source": [
        "##### Modifique las siguientes líneas de código #####\n",
        "fecha_inicial = \"2019-01-01\"\n",
        "fecha_final = \"2020-03-20\"\n",
        "escala_logaritmica = False  # True o False\n",
        "barras_de_incertidumbre = True # True o False\n",
        "\n",
        "\n",
        "\n",
        "\n",
        "\n",
        "##### NO modifique las siguientes líneas de código #####\n",
        "df_total = df_prophet.merge(resultados, on='ds', how='left')\n",
        "\n",
        "if escala_logaritmica == False:\n",
        "  df_total['y'] = 10**df_total['y']\n",
        "  df_total['yhat'] = 10**df_total['yhat']\n",
        "  df_total['yhat_lower'] = 10**df_total['yhat_lower']\n",
        "  df_total['yhat_upper'] = 10**df_total['yhat_upper']\n",
        "\n",
        "df_total = df_total[(df_total['ds'] >= fecha_inicial) & (df_total['ds'] <= fecha_final)]\n",
        "\n",
        "p1 = max(df_total['yhat'].max(), df_total['y'].max())\n",
        "p2 = min(df_total['yhat'].min(), df_total['y'].min())\n",
        "\n",
        "if barras_de_incertidumbre:\n",
        "  y_errormin = df_total['yhat'] - df_total['yhat_lower']\n",
        "  y_errormax = df_total['yhat_upper'] - df_total['yhat']\n",
        "  y_error = [y_errormin, y_errormax]\n",
        "else:\n",
        "  y_error = 0\n",
        "\n",
        "\n",
        "fig, ax = plt.subplots(figsize=(30, 15))\n",
        "ax.errorbar(df_total['y'], df_total['yhat'], yerr=y_error, color = 'grey', fmt='o', ecolor='#1F77B4')\n",
        "ax.plot([p1, p2], [p1, p2], color = \"black\", linestyle = 'dashed')\n",
        "ax.set_xlabel('Observados')\n",
        "ax.set_ylabel('Predichos')\n",
        "plt.show()"
      ],
      "metadata": {
        "id": "ZrYYtOx5grzM"
      },
      "execution_count": null,
      "outputs": []
    },
    {
      "cell_type": "markdown",
      "source": [
        "\n",
        "*   ¿Donde y cuando se encuentran los mayores error de la predicción?\n",
        "*   ¿Considera que la predicción realizada es buena?\n",
        "*   ¿Qué otras técnicas considera relevantes para evaluar la bondad de ajuste?\n",
        "\n",
        "\n",
        "##4. Predicciones durante la cuarentena\n",
        "A partir del modelo entrenado previamente, vamos a realizar las predicciones de circulación en fechas que no fueron parte de los datos de entrenamiento. Para ello, en primer lugar debemos cargar los datos necesarios, estos son iguales a los utilizados para el entrenamiento del modelo pero su fecha final es el 31/12/2020, "
      ],
      "metadata": {
        "id": "G46IgV7D451x"
      }
    },
    {
      "cell_type": "code",
      "source": [
        "df_prophet_entero = pd.read_csv('Herramientas-cuantitativas-Contaminacion-aire-y-vehiculos/Datos/df_prophet_entero.csv')\n",
        "\n",
        "df_prophet_entero['ds'] = pd.to_datetime(df_prophet_entero['ds'], format = '%Y-%m-%dT%H:%M:%SZ')\n",
        "df_prophet_entero['ds'] = df_prophet_entero['ds'].dt.tz_localize(None) #quito el timezone\n",
        "\n",
        "df_prophet_entero"
      ],
      "metadata": {
        "id": "CLg1j1F8t59Y"
      },
      "execution_count": null,
      "outputs": []
    },
    {
      "cell_type": "markdown",
      "source": [
        "Ahora realizamos la predicción de la misma forma que lo hicimos para los datos de entrenamiento:"
      ],
      "metadata": {
        "id": "2Ks_2HIFvpAv"
      }
    },
    {
      "cell_type": "code",
      "source": [
        "resultados_entero = m.predict(df_prophet_entero)\n",
        "resultados_entero.tail()"
      ],
      "metadata": {
        "id": "iDC2UhTnvzmM"
      },
      "execution_count": null,
      "outputs": []
    },
    {
      "cell_type": "markdown",
      "source": [
        "Observemos rápidamente como se ve la predicción comparada al conteo vehicular durante la cuarentena. Modifique el código siguiente según lo crea necesario."
      ],
      "metadata": {
        "id": "eZ2DpN9EwFun"
      }
    },
    {
      "cell_type": "code",
      "source": [
        "##### Modifique las siguientes líneas de código #####\n",
        "fecha_inicial = \"2018-01-01\"\n",
        "fecha_final = \"2022-12-31\"\n",
        "escala_logaritmica = False  # True o False\n",
        "\n",
        "\n",
        "\n",
        "\n",
        "##### NO modifique las siguientes líneas de código #####\n",
        "df_total = df_prophet_entero.merge(resultados_entero, on='ds', how='left')\n",
        "\n",
        "if escala_logaritmica == False:\n",
        "  df_total['y'] = 10**df_total['y']\n",
        "  df_total['yhat'] = 10**df_total['yhat']\n",
        "  df_total['yhat_lower'] = 10**df_total['yhat_lower']\n",
        "  df_total['yhat_upper'] = 10**df_total['yhat_upper']\n",
        "\n",
        "df_total = df_total[(df_total['ds'] >= fecha_inicial) & (df_total['ds'] <= fecha_final)]\n",
        "\n",
        "fig, ax = plt.subplots(figsize=(30, 15))\n",
        "ax.plot(df_total['ds'], df_total['yhat'], label='Predicho')\n",
        "ax.plot(df_total['ds'], df_total['yhat_lower'], color='tab:blue', alpha=0.1)\n",
        "ax.plot(df_total['ds'], df_total['yhat_upper'], color='tab:blue', alpha=0.1)\n",
        "ax.fill_between(df_total['ds'], df_total['yhat_lower'], df_total['yhat_upper'], alpha=0.2, label='Incerteza')\n",
        "ax.scatter(df_total['ds'], df_total['y'], color='black', label='Observado')\n",
        "ax.legend(loc=\"upper left\")\n",
        "ax.set_xlabel('Fecha')\n",
        "ax.set_ylabel('Conteo vehicular por hora')\n",
        "plt.show()"
      ],
      "metadata": {
        "id": "xt3MUP5qwVcE"
      },
      "execution_count": null,
      "outputs": []
    },
    {
      "cell_type": "markdown",
      "source": [
        "*   ¿Qué ocurre durante la cuarentena en cuanto a las predicciones y los valores observados?\n",
        "\n",
        "Los resultados obtenidos fueron guardados en formato CSV y serán utilizados en la próxima notebook."
      ],
      "metadata": {
        "id": "fMFLEHxS0XSd"
      }
    }
  ],
  "metadata": {
    "colab": {
      "name": "3-Modelo Vehiculos.ipynb",
      "provenance": [],
      "include_colab_link": true
    },
    "kernelspec": {
      "display_name": "Python 3",
      "name": "python3"
    },
    "language_info": {
      "name": "python"
    }
  },
  "nbformat": 4,
  "nbformat_minor": 0
}