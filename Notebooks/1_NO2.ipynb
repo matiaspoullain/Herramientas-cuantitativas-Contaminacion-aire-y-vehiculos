{
  "cells": [
    {
      "cell_type": "markdown",
      "metadata": {
        "id": "view-in-github",
        "colab_type": "text"
      },
      "source": [
        "<a href=\"https://colab.research.google.com/github/matiaspoullain/Herramientas-cuantitativas-Contaminacion-aire-y-vehiculos/blob/colabs/Notebooks/1_NO2.ipynb\" target=\"_parent\"><img src=\"https://colab.research.google.com/assets/colab-badge.svg\" alt=\"Open In Colab\"/></a>"
      ]
    },
    {
      "cell_type": "markdown",
      "source": [
        "## Librerías y datos "
      ],
      "metadata": {
        "id": "nCz7797m9YzL"
      }
    },
    {
      "cell_type": "markdown",
      "metadata": {
        "id": "uvj1lChcvBsY"
      },
      "source": [
        "En esta notebook vamos a interactuar con la plataforma de Google Earth Engine (GEE). Para esto es necesario tener una cuenta en gmail.\n",
        "\n",
        "Por un lado vamos a aprender a bajar los datos brutos. Igualmente tenemos procesados en un git los datos para ganar tiempo."
      ]
    },
    {
      "cell_type": "code",
      "execution_count": null,
      "metadata": {
        "id": "8mzW1oGouqcr",
        "colab": {
          "base_uri": "https://localhost:8080/"
        },
        "outputId": "76d4a9b9-18ce-4fdb-84f6-15af6fc7ae22"
      },
      "outputs": [
        {
          "output_type": "stream",
          "name": "stdout",
          "text": [
            "To authorize access needed by Earth Engine, open the following URL in a web browser and follow the instructions. If the web browser does not start automatically, please manually browse the URL below.\n",
            "\n",
            "    https://code.earthengine.google.com/client-auth?scopes=https%3A//www.googleapis.com/auth/earthengine%20https%3A//www.googleapis.com/auth/devstorage.full_control&request_id=kcBC8PzjMXqgdZFL8CaqlnWodAJEts_ADJPHTqZ7JCc&tc=ARTO4r5vaA69ebabv5zCPEiYwX0EnED_GrGQIMrV2D4&cc=4KdksBQLVZHS8g110r_0ic2wa0kl-Vj-j0IAbfXEVfo\n",
            "\n",
            "The authorization workflow will generate a code, which you should paste in the box below. \n",
            "Enter verification code: 4/1AX4XfWgxEYnxpBrO9DGRMoNV0j2Hei2SCQIevvm-W9YC4B-x44BVB0ez8GI\n",
            "\n",
            "Successfully saved authorization token.\n"
          ]
        }
      ],
      "source": [
        "import ee\n",
        "try:\n",
        "    ee.Initialize()\n",
        "except Exception as e:\n",
        "    ee.Authenticate()\n",
        "    ee.Initialize()"
      ]
    },
    {
      "cell_type": "markdown",
      "metadata": {
        "id": "SzLneQz7vOyX"
      },
      "source": [
        "Importamos librerías de python que nos van a ser útiles"
      ]
    },
    {
      "cell_type": "code",
      "execution_count": null,
      "metadata": {
        "id": "69F_7d4fvN_n"
      },
      "outputs": [],
      "source": [
        "import pandas as pd\n",
        "import numpy as np\n",
        "import matplotlib.pyplot as plt\n",
        "from google.colab import files\n",
        "import matplotlib as mpl\n",
        "import matplotlib.ticker\n",
        "\n"
      ]
    },
    {
      "cell_type": "code",
      "source": [
        "## Descarga del repositorio ##\n",
        "!git clone https://github.com/matiaspoullain/Herramientas-cuantitativas-Contaminacion-aire-y-vehiculos.git"
      ],
      "metadata": {
        "id": "2QDmp-VPi4ZE",
        "colab": {
          "base_uri": "https://localhost:8080/"
        },
        "outputId": "4d58f460-aeef-4f87-8da3-0ccf1df214bc"
      },
      "execution_count": null,
      "outputs": [
        {
          "output_type": "stream",
          "name": "stdout",
          "text": [
            "Cloning into 'Herramientas-cuantitativas-Contaminacion-aire-y-vehiculos'...\n",
            "remote: Enumerating objects: 85, done.\u001b[K\n",
            "remote: Counting objects: 100% (85/85), done.\u001b[K\n",
            "remote: Compressing objects: 100% (68/68), done.\u001b[K\n",
            "remote: Total 85 (delta 22), reused 74 (delta 14), pack-reused 0\u001b[K\n",
            "Unpacking objects: 100% (85/85), done.\n",
            "Archive:  Herramientas-cuantitativas-Contaminacion-aire-y-vehiculos/Modelos/Modelo_vehiculos.zip\n",
            "  inflating: Modelo_vehiculos.json   \n"
          ]
        }
      ]
    },
    {
      "cell_type": "markdown",
      "metadata": {
        "id": "8GPuYl03vxAv"
      },
      "source": [
        "El objetivo es poder descargar para una determinada región de interés, una serie temporal de  NO$_2$ (o podría ser otro gas) del satélite Sentinel 5p.\n",
        "\n",
        "En el siguiente link (https://developers.google.com/earth-engine/datasets/) está todo el catálogo de datos disponible de la plataforma.\n",
        "\n",
        "\n",
        "Primero definamos una región de interés. Este va a ser un rectángulo de latitud longitud. Podría ser un polígono de puntos también. Por ejemplo nuestro caso de estudio va a ser la ciudad de buenos aires"
      ]
    },
    {
      "cell_type": "code",
      "execution_count": null,
      "metadata": {
        "id": "sytV62yqvwm_"
      },
      "outputs": [],
      "source": [
        "ciudad = 'Buenos Aires'\n",
        "\n",
        "lat_n=-34.52\n",
        "lat_s=-34.73\n",
        "lon_w=-58.56\n",
        "lon_e=-58.33 \n",
        "\n",
        "delta=0    ## este parámetro es solo para agrandar o achicar la region de manera proporcional.\n",
        "\n"
      ]
    },
    {
      "cell_type": "markdown",
      "metadata": {
        "id": "6d1cu7NEagOh"
      },
      "source": [
        "Veamos qué región es esta, para eso usemos la librería Cartopy. Les dejamos una notebook muy buena introductoria a la librería: https://colab.research.google.com/github/astg606/py_materials/blob/master/visualization/introduction_cartopy.ipynb#scrollTo=DbmFDgM9MNVO\n",
        "\n",
        "El parámetro delta es simplemente para achicar o agrandar el rectángulo sin tener que estar buscando en un mapa las coordenadas cada vez.\n"
      ]
    },
    {
      "cell_type": "code",
      "execution_count": null,
      "metadata": {
        "id": "6CRU9xcNamr5",
        "colab": {
          "base_uri": "https://localhost:8080/"
        },
        "outputId": "d7f8a9ac-ebf5-4fda-e756-c900f4a1016f"
      },
      "outputs": [
        {
          "output_type": "stream",
          "name": "stdout",
          "text": [
            "Reading package lists... Done\n",
            "Building dependency tree       \n",
            "Reading state information... Done\n",
            "libproj-dev is already the newest version (4.9.3-2).\n",
            "libproj-dev set to manually installed.\n",
            "proj-data is already the newest version (4.9.3-2).\n",
            "proj-data set to manually installed.\n",
            "The following NEW packages will be installed:\n",
            "  proj-bin\n",
            "0 upgraded, 1 newly installed, 0 to remove and 40 not upgraded.\n",
            "Need to get 32.3 kB of archives.\n",
            "After this operation, 110 kB of additional disk space will be used.\n",
            "Get:1 http://archive.ubuntu.com/ubuntu bionic/universe amd64 proj-bin amd64 4.9.3-2 [32.3 kB]\n",
            "Fetched 32.3 kB in 0s (85.1 kB/s)\n",
            "Selecting previously unselected package proj-bin.\n",
            "(Reading database ... 155501 files and directories currently installed.)\n",
            "Preparing to unpack .../proj-bin_4.9.3-2_amd64.deb ...\n",
            "Unpacking proj-bin (4.9.3-2) ...\n",
            "Setting up proj-bin (4.9.3-2) ...\n",
            "Processing triggers for man-db (2.8.3-2ubuntu0.1) ...\n",
            "Reading package lists... Done\n",
            "Building dependency tree       \n",
            "Reading state information... Done\n",
            "libgeos-dev is already the newest version (3.6.2-1build2).\n",
            "libgeos-dev set to manually installed.\n",
            "0 upgraded, 0 newly installed, 0 to remove and 40 not upgraded.\n",
            "Requirement already satisfied: cython in /usr/local/lib/python3.7/dist-packages (0.29.28)\n",
            "Collecting cartopy\n",
            "  Downloading Cartopy-0.20.2.tar.gz (10.8 MB)\n",
            "\u001b[K     |████████████████████████████████| 10.8 MB 4.0 MB/s \n",
            "\u001b[?25h  Installing build dependencies ... \u001b[?25l\u001b[?25hdone\n",
            "  Getting requirements to build wheel ... \u001b[?25l\u001b[?25herror\n",
            "\u001b[33mWARNING: Discarding https://files.pythonhosted.org/packages/f6/55/1e1c737dc9436b320deead73d1c455ddbb74b8b6992081863492f6f6378a/Cartopy-0.20.2.tar.gz#sha256=4d08c198ecaa50a6a6b109d0f14c070e813defc046a83ac5d7ab494f85599e35 (from https://pypi.org/simple/cartopy/) (requires-python:>=3.7). Command errored out with exit status 1: /usr/bin/python3 /usr/local/lib/python3.7/dist-packages/pip/_vendor/pep517/in_process/_in_process.py get_requires_for_build_wheel /tmp/tmppl70wfcj Check the logs for full command output.\u001b[0m\n",
            "  Downloading Cartopy-0.20.1.tar.gz (10.8 MB)\n",
            "\u001b[K     |████████████████████████████████| 10.8 MB 45.6 MB/s \n",
            "\u001b[?25h  Installing build dependencies ... \u001b[?25l\u001b[?25hdone\n",
            "  Getting requirements to build wheel ... \u001b[?25l\u001b[?25herror\n",
            "\u001b[33mWARNING: Discarding https://files.pythonhosted.org/packages/fc/59/aa52698e3838f4cd0e7eaa75bd86837e9e0b05041dbdaee3cda2fffced06/Cartopy-0.20.1.tar.gz#sha256=91f87b130e2574547a20cd634498df97d797abd12dcfd0235bc0cdbcec8b05e3 (from https://pypi.org/simple/cartopy/) (requires-python:>=3.7). Command errored out with exit status 1: /usr/bin/python3 /usr/local/lib/python3.7/dist-packages/pip/_vendor/pep517/in_process/_in_process.py get_requires_for_build_wheel /tmp/tmpi77cy5oe Check the logs for full command output.\u001b[0m\n",
            "  Downloading Cartopy-0.20.0.tar.gz (10.8 MB)\n",
            "\u001b[K     |████████████████████████████████| 10.8 MB 21.9 MB/s \n",
            "\u001b[?25h  Installing build dependencies ... \u001b[?25l\u001b[?25hdone\n",
            "  Getting requirements to build wheel ... \u001b[?25l\u001b[?25herror\n",
            "\u001b[33mWARNING: Discarding https://files.pythonhosted.org/packages/0f/c0/58453b036e79046d211f083880d58dcce787e7e07647ac25dc46c6555099/Cartopy-0.20.0.tar.gz#sha256=eae58aff26806e63cf115b2bce9477cedc4aa9f578c5e477b2c25cfa404f2b7a (from https://pypi.org/simple/cartopy/) (requires-python:>=3.7). Command errored out with exit status 1: /usr/bin/python3 /usr/local/lib/python3.7/dist-packages/pip/_vendor/pep517/in_process/_in_process.py get_requires_for_build_wheel /tmp/tmp8h0ayp6a Check the logs for full command output.\u001b[0m\n",
            "  Downloading Cartopy-0.19.0.post1.tar.gz (12.1 MB)\n",
            "\u001b[K     |████████████████████████████████| 12.1 MB 31.3 MB/s \n",
            "\u001b[?25h  Installing build dependencies ... \u001b[?25l\u001b[?25hdone\n",
            "  Getting requirements to build wheel ... \u001b[?25l\u001b[?25hdone\n",
            "    Preparing wheel metadata ... \u001b[?25l\u001b[?25hdone\n",
            "Requirement already satisfied: numpy>=1.13.3 in /usr/local/lib/python3.7/dist-packages (from cartopy) (1.21.6)\n",
            "Collecting pyshp>=2\n",
            "  Downloading pyshp-2.2.0-py3-none-any.whl (44 kB)\n",
            "\u001b[K     |████████████████████████████████| 44 kB 2.5 MB/s \n",
            "\u001b[?25hRequirement already satisfied: shapely>=1.5.6 in /usr/local/lib/python3.7/dist-packages (from cartopy) (1.8.1.post1)\n",
            "Building wheels for collected packages: cartopy\n",
            "  Building wheel for cartopy (PEP 517) ... \u001b[?25l\u001b[?25hdone\n",
            "  Created wheel for cartopy: filename=Cartopy-0.19.0.post1-cp37-cp37m-linux_x86_64.whl size=12516282 sha256=66b4e90a20877a90ef05c78c4acd4a265f7760519f8eba473a9ca22f82c8aa74\n",
            "  Stored in directory: /root/.cache/pip/wheels/98/01/f7/bd10aeb96fe4b518cde5f7c4f5e12c7202f85b7353a5017847\n",
            "Successfully built cartopy\n",
            "Installing collected packages: pyshp, cartopy\n",
            "Successfully installed cartopy-0.19.0.post1 pyshp-2.2.0\n",
            "Selecting previously unselected package python-pkg-resources.\n",
            "(Reading database ... 155517 files and directories currently installed.)\n",
            "Preparing to unpack .../00-python-pkg-resources_39.0.1-2_all.deb ...\n",
            "Unpacking python-pkg-resources (39.0.1-2) ...\n",
            "Selecting previously unselected package python-pyshp.\n",
            "Preparing to unpack .../01-python-pyshp_1.2.12+ds-1_all.deb ...\n",
            "Unpacking python-pyshp (1.2.12+ds-1) ...\n",
            "Selecting previously unselected package python-shapely.\n",
            "Preparing to unpack .../02-python-shapely_1.6.4-1_amd64.deb ...\n",
            "Unpacking python-shapely (1.6.4-1) ...\n",
            "Selecting previously unselected package python-six.\n",
            "Preparing to unpack .../03-python-six_1.11.0-2_all.deb ...\n",
            "Unpacking python-six (1.11.0-2) ...\n",
            "Selecting previously unselected package python-cartopy:amd64.\n",
            "Preparing to unpack .../04-python-cartopy_0.14.2+dfsg1-2build3_amd64.deb ...\n",
            "Unpacking python-cartopy:amd64 (0.14.2+dfsg1-2build3) ...\n",
            "Selecting previously unselected package python3-numpy.\n",
            "Preparing to unpack .../05-python3-numpy_1%3a1.13.3-2ubuntu1_amd64.deb ...\n",
            "Unpacking python3-numpy (1:1.13.3-2ubuntu1) ...\n",
            "Selecting previously unselected package python3-pkg-resources.\n",
            "Preparing to unpack .../06-python3-pkg-resources_39.0.1-2_all.deb ...\n",
            "Unpacking python3-pkg-resources (39.0.1-2) ...\n",
            "Selecting previously unselected package python3-pyshp.\n",
            "Preparing to unpack .../07-python3-pyshp_1.2.12+ds-1_all.deb ...\n",
            "Unpacking python3-pyshp (1.2.12+ds-1) ...\n",
            "Selecting previously unselected package python3-shapely.\n",
            "Preparing to unpack .../08-python3-shapely_1.6.4-1_amd64.deb ...\n",
            "Unpacking python3-shapely (1.6.4-1) ...\n",
            "Selecting previously unselected package python3-six.\n",
            "Preparing to unpack .../09-python3-six_1.11.0-2_all.deb ...\n",
            "Unpacking python3-six (1.11.0-2) ...\n",
            "Selecting previously unselected package python3-cartopy:amd64.\n",
            "Preparing to unpack .../10-python3-cartopy_0.14.2+dfsg1-2build3_amd64.deb ...\n",
            "Unpacking python3-cartopy:amd64 (0.14.2+dfsg1-2build3) ...\n",
            "Setting up python-shapely (1.6.4-1) ...\n",
            "Setting up python-pyshp (1.2.12+ds-1) ...\n",
            "Setting up python3-numpy (1:1.13.3-2ubuntu1) ...\n",
            "Setting up python3-six (1.11.0-2) ...\n",
            "Setting up python3-shapely (1.6.4-1) ...\n",
            "Setting up python3-pyshp (1.2.12+ds-1) ...\n",
            "Setting up python3-pkg-resources (39.0.1-2) ...\n",
            "Setting up python-pkg-resources (39.0.1-2) ...\n",
            "Setting up python-six (1.11.0-2) ...\n",
            "Setting up python3-cartopy:amd64 (0.14.2+dfsg1-2build3) ...\n",
            "Setting up python-cartopy:amd64 (0.14.2+dfsg1-2build3) ...\n",
            "Processing triggers for man-db (2.8.3-2ubuntu0.1) ...\n",
            "Found existing installation: Shapely 1.8.1.post1\n",
            "Uninstalling Shapely-1.8.1.post1:\n",
            "  Successfully uninstalled Shapely-1.8.1.post1\n",
            "Requirement already satisfied: shapely in /usr/lib/python3/dist-packages (1.6.4)\n"
          ]
        }
      ],
      "source": [
        "!apt-get install libproj-dev proj-data proj-bin\n",
        "!apt-get install libgeos-dev\n",
        "!pip install cython\n",
        "!pip install cartopy\n",
        "!apt-get -qq install python-cartopy python3-cartopy\n",
        "!pip uninstall -y shapely    # cartopy and shapely aren't friends (early 2020)\n",
        "!pip install shapely --no-binary shapely\n",
        "\n",
        "import cartopy\n",
        "import cartopy.crs as ccrs                   # for projections\n",
        "import cartopy.feature as cfeature           # for features\n",
        "import cartopy.io.shapereader as shapereader\n",
        "from cartopy.mpl.ticker import LongitudeFormatter, LatitudeFormatter\n",
        "from cartopy.feature.nightshade import Nightshade"
      ]
    },
    {
      "cell_type": "markdown",
      "source": [
        "Esta librería no tiene cargados mapas con divisiones políticas menores a provincias. Por lo tanto usamos un _basemap_ externo que lo descargamos del git de la clase."
      ],
      "metadata": {
        "id": "y6jzr63Gi58a"
      }
    },
    {
      "cell_type": "markdown",
      "source": [
        "Hacemos un gráfico de la región de interés."
      ],
      "metadata": {
        "id": "2Uzr-gr7D9xT"
      }
    },
    {
      "cell_type": "code",
      "execution_count": null,
      "metadata": {
        "colab": {
          "base_uri": "https://localhost:8080/",
          "height": 319
        },
        "id": "gvUwEgeyh7IY",
        "outputId": "98c3e2cb-190e-4f26-fd92-dd295e115a62"
      },
      "outputs": [
        {
          "output_type": "stream",
          "name": "stderr",
          "text": [
            "/usr/local/lib/python3.7/dist-packages/cartopy/mpl/geoaxes.py:800: UserWarning: Approximating coordinate system <cartopy._crs.Geodetic object at 0x7fba749d6f50> with the PlateCarree projection.\n",
            "  'PlateCarree projection.'.format(crs))\n"
          ]
        },
        {
          "output_type": "display_data",
          "data": {
            "text/plain": [
              "<Figure size 432x288 with 1 Axes>"
            ],
            "image/png": "[encoded data removed]"
          },
          "metadata": {
            "needs_background": "light"
          }
        }
      ],
      "source": [
        "#from cartopy.io.shapereader import Reader\n",
        "data = shapereader.Reader('Herramientas-cuantitativas-Contaminacion-aire-y-vehiculos/Mapas/Argentina/gadm36_ARG_2.shp')\n",
        "ax = plt.axes(projection=cartopy.crs.PlateCarree())\n",
        "ax.add_geometries(data.geometries(), crs=ccrs.Geodetic(), edgecolor='k', facecolor='none')\n",
        "ax.set_extent([lon_w, lon_e, lat_s, lat_n])\n",
        "ax.set_title(\"Region de Interés\")\n",
        "plt.show()"
      ]
    },
    {
      "cell_type": "markdown",
      "source": [
        "##Descarga directa de GEE"
      ],
      "metadata": {
        "id": "DxmHCiRiEPII"
      }
    },
    {
      "cell_type": "markdown",
      "source": [
        "###Series temporales"
      ],
      "metadata": {
        "id": "jsuW10MIhK53"
      }
    },
    {
      "cell_type": "markdown",
      "source": [
        "####Geometrías"
      ],
      "metadata": {
        "id": "q46ftaUkEUSY"
      }
    },
    {
      "cell_type": "markdown",
      "source": [
        "Primero hay que determinar la región de donde vamos a descargar los datos. GEE maneja los datos con un objeto que se llama _Geometry_.\n",
        "\n",
        "Para nuestro caso de estudio vamos a tomar un rectánulo de latitud-longitud."
      ],
      "metadata": {
        "id": "b2eqWDyPHLL2"
      }
    },
    {
      "cell_type": "code",
      "source": [
        "roi = ee.Geometry.Rectangle([np.round(lon_w-delta,2), np.round(lat_s-delta,2), np.round(lon_e+delta,2), np.round(lat_n+delta,2)],geodesic= False,proj='EPSG:4326')\n"
      ],
      "metadata": {
        "id": "VlwDfF_7ENgg"
      },
      "execution_count": null,
      "outputs": []
    },
    {
      "cell_type": "markdown",
      "metadata": {
        "id": "9emDssa6T458"
      },
      "source": [
        "En vez de un rectánculo se puede dar una tira de puntos de latitud y longitud. La sintáxis para un polígono es:\n",
        "\n",
        "\n",
        "\n",
        "```\n",
        "roi=ee.Geometry.Polygon([x0,y0,x1,y1,...,xn,yn])\n",
        "```\n",
        "\n",
        "Donde el par $(x_i,y_i)$ es el par longitud-latitud del punto $i$. El último punto no tiene que ser necesariamente el mismo que el inicial, GEE entiende que el polígono siempre está cerrado. Se puede trabajar con puntos, con circulos centrados en un punto, anillos. Para más opciones pueden ver en https://developers.google.com/earth-engine/guides/geometries. \n",
        "\n",
        "Tengan en cuenta que en la plataforma de GEE el código está en javascript. Sin embargo todas las funciones de GEE tienen una sintaxis similar en Python."
      ]
    },
    {
      "cell_type": "markdown",
      "metadata": {
        "id": "VnWArU-Twgff"
      },
      "source": [
        "\n",
        "Dentro de ese rectángulo hay muchísimos píxeles (la información provista por GEE tiene una resolución de 0.01° x 0.01°). Sin embargo la salida final va a ser un único valor para todo esa región. Es por eso que se necesita una función de reducción que lo que hace es reducir la información. Este método puede ser simplemente calculando el promedio de todos los píxeles que caen dentro del polígono. Aunque nos podría interesar la mediana, o los valores mínimos y máximos dentro de la región de interes, entre otras. \n",
        "\n",
        "Por otro lado necesitamos una función auxiliar que interactúe con GEE y Python y nos devuelva la información en un formato un poco más amable (para aquelles que no manejamos javascript)\n",
        "\n",
        "Para más info pueden entrar a: https://developers.google.com/earth-engine/tutorials/community/time-series-visualization-with-altair?hl=sr"
      ]
    },
    {
      "cell_type": "markdown",
      "source": [
        "####Función de reducción "
      ],
      "metadata": {
        "id": "QRrlqtk_k4xW"
      }
    },
    {
      "cell_type": "markdown",
      "source": [
        "La función *create_reduce_region_function* crea la función de reducción de región donde se van a reducir los pixeles de una colección de imágenes a un único valor dada alguna medida estadística (media, mediana, máximo). Sus parámetros son :\n",
        "\n",
        "*   La región  de interés (_ee.Geometry_) \n",
        "*   El método de reducción  (_ee.Reducer_) que es el método por medio del cual se reducirá la información (media por ejemplo). \n",
        "*   La escala del píxel en metros.\n",
        "*   La proyección  _crs_.\n",
        "*   Parámetros que no le vamos a dar tanta importancia: _bestEffort_ que es un indicador booleano para saber si se debe utilizar una escala mayor si la geometría  ingresada contiene demasiados píxeles a la escala dada para que la reducción tenga éxito. _maxPixels_ es el número máximo de píxeles a reducir y _tileScale_ es un factor de scala usado para evitar que el cálculo del reductor se quede sin memoria. Si la cuenta converge, no influye en el resultado más que en redondeos de punto flotante. \n",
        "\n",
        "Luego de seleccionar la colección de imágenes por medio de *ee.ImageCollection* y filtrarla por variable y por fecha, se procede a utilizar el comando *ee.FeatureCollection* que toma como input la función de reducción que calculamos.\n",
        "\n",
        "Una imagen que funciona como esquema de lo que estamos intentando realizar:\n",
        "\n",
        "![Reduce_region_diagram.png](data:image/png;base64,iVBORw0KGgoAAAANSUhEUgAAAegAAABVCAYAAACCc3cTAAAP2UlEQVR4AezVIQ7CMACG0c4jkBxgS3YIHLcAVUm4QB0aieVi0FNMIgiUYghyhonlveRLdZsmf5gFAAAAAAAAAAAAAAAAAAAAlrVD7Sj9sV0ARoNV7Vor0gRtwngAxrlt22dKqej/7fenst1eSozn2d81xvgd56ZpbvVchHEAjHPXda+ccxmGYYKU0r3UZy/r9WPW98w5f/7W7zivwjgAxrnv+4nHWW/2zgA0imON47GmNa0BLaapbVMJUUEhgUoPTIvAlQgWAhxEqG0CCfIoIiIJjSBUIUAoKRy0YEFBkSBipRiIEOCAAIJ9TcEiQXwijyckYEB5KaieJknOZLv/9c/c5JNbc07usibfH/7c7ezst7Onud99M7OzJ08+BZz9THpqpcD5P3nAWaVSqRTOO3funBsbG1NoWh4dfejduPEIrz5kHnlnzz7Bttl/585D78KFJ4Fv3WK5MMpxXCqVDrYRBzHGxh7OOwfK5bFDQ4+DY/v60h7rG9+/b44zdQF7vEYYzv9+ebe2SqVSqbZEHs4EWDI5ga7gRfPp00/z6n5ubp72NmyYC97H4xmT+a5Z87wMLi31vCNHJucd39MzgXJTB5nyjh3P8B7H5+ziBtRjsQzKjdetm/NOnMi2e2AgHZTX12e8pqbpeXVbW6cj8W93/fp1hXOeUqlUqm2+70UdzsgOt24NgLbovnw5vWBAw9u3P/MaG2cCsF69+hjgDXz8+KT3009PvcrKWdRDxjsPoPC3304Brga6YYAeH3+AcwVluHbs/+qrLIB/++3F+IA+4jc3m3o+HJmRL5GvXbvmfyaVyxnOKpVKpXAmqJy8f/8UYpl4sss4DNBr184hkzfliCUzVWTlKGtomME29tnbMGIg6w4FNLrLeU50oZtjAXlmzBLQ+KwM3FmG/QpnlUqlKqgUztguajwJaGS+djlgivJNm2bxPnBd3fP4H344a9dBDPtYHBMKaLlNYxzadKXbgEbXu10P5yeglx+cVSqVSuGscA6BpYEvoIxuZWnUwVg16nR0TAqALi6gAXz5A4CAXko4w78rnFUqlSoPONfX13sKZzdAA8Kyi3twMI3xZx9Sj4Ptw4enzHnR9WxDNQTQiGG6uNle2cXtAOiIwFmlUu1bhsv34ppUCmeXeO6Axi1T9sxtjD/X1ARgBJg5g/kRxpvN+THTGts4JgzQuH0KsQhfxMckMTG5zQHQUYCzSqVw9pajXxHSCudEIqFwdge0MWZuE8DGe/bMALDYbyZ8cXY36mLG98vGoA3ckSnL26x4TJQALeF8KRzOKpWK2ab/N79LLocblMl9UbZsN68tXymcx8fHFc55OmQREbMfY8PnzpmubWMch9uxMBPbLExiAMpMOPwciIkub9TNuVCJXCAF2yjH/iWAc2nJgqRSKaABNvk3hTK5L+pmu/MAtGqX77TCmfGKbWbYzH5xjzJgiwVXTNc42/baOpVK+ePkawWcVSqVAjrCUjgrnGFkvFxwRBrjygpnlWrFSru4Fc4K5yU3Zm9j5S+MPWOsubt7IlgrW+GsUimgl5kV0Apnh3hqhbNKpRm0ZtAKZ4WzwlmlUukYdFSlcFY4K5xVKpUCWuHc3NyscC60Fc7n84CzSqVSQCucDx48GNl/ONwHvHnzrP1oRCzK8crGAh5YBpMPisDKXU5PueromPK++WZ6sZ83jesuwnOsiwrnn0teKpVKpYBWJSIPZ/qHHyYA0xXnjz6aLUjcvr7irBB24cIFBzirVCoF9MrUXt+ZyMOZXdGbNz9jtjvrlDnv3JnJLq3JeN999+rZ6NdfT5tYb73lOcWCm5pMPLPeNu6D5n73uIzHFcUK6nPnzvnXUKpwjobW+z7j+wr9SYlKAa2AVjhHYpyYsaqrsxnpp59mnED1xx+PAWUDZ2y7LXn52Ky5/eabHp86JdroFhfxFM7RUL/vEWH4NkFaXbK4ion7TOMlUZFKAa2AVjh//HEWzp9/Hik448lWZkx89ernceNxd5gyLuMpnCOkvwQwpdO+txRgXf2UAjpSUkAroBXOVVVZOH/55QxW54oMnAcGDERNt3YiwTa6xw2Pp3CO8dF2DQt4gtY2/g01+t5Y4q42+WXEuL0sv+hbqsx3PY+t57aUrNvC64R6BaDXI1uHxcz6KlkuVM4Jpm145XZpSPf6Hn7OYV3rG7PnNNdVy88c+1QK6OUmhfMHH2Th3NQUKTjjCVYGym+88fy1uXnaFaaMGxJP4Qwg/09krZO+kxLUzGSviLpwP8HhDmhxPpbfFuUHfI+LNmC7Uwbmj4h7oi6ud9gCND6DjLUfYITOc1uUG+F8D+Rnx/P1l1AEdpL7ZDv2hC1byc9mUMQH4FUK6OUihfPGjVk4t7VNozwycMbtThLOBw9Ocb9r3JB4CudGC0x/Mqu8ZIGkX8AyzfIR1j1vwe8msj1XQIssfYDlvVZ5N8sy3N/L1wzLO8X1efQg6+I65Rh0LcsnBYjb+eMgI8qhY7Id/LwmzWdkZACbxucr2pER3eyA703WlTC/yPqpkqJIAY1bI7EmBh4F++Itr3e8ZDKJ/YG7urr879r/KqBd4dzT07Oi4Pzee2a2Nu5zjhSce3peuG0Ms6253z0u4xUfzgCFu5ApdhWwW/Mu29ouyqsIGAIMMrA8Jbpwy62sutMR0A943rsCTLz+AJAZQnCXiBFHOV3BNt5jjBaZ+eaYJHZFgpgaEeWIP5mjHfWm3Qa4BthVom479w2XCBHi9g+9MpZvW0bd3C38obMlioAeHR31Nm3aFBw/MDAwb9/g4KC3bt264O89FovBeI9bKQF1BXSealmpcN6wIQvn77+fjBSc8VQqCWeAFfvc47rHyy9bP23DuX0xMwOC4AwzvcVSLWMTHtKm6/YX1p/k9l1Z1+puvuIIaOm0gFqL9XmMSLPcIxRjfP97jnPedAD0Xm6fyRG7h9cEnRI/PqQ9EVsCun2FPIVq2MA6IoBuamoKjpWAxgqTNTU1/nfrBm9oaMiU4z3KKisrvfv37yugwyV/pa48OK9f/xzOq1Z53o8/TkQKzuhytru00RV98uRT7HOPK+MV1vh/ZUOlvcCP0Utx3NJRzPTCbbqXF1h3xL2L23SnD1uALWX5oQW2A/HiZjlVSijlAGjR3hARtAtwPMdx8RX4mEgJ66ID+uzZs8EP7ng8LgGNDBllfiJwPOf5cmbRCmiF861bj/zulyycT5x4Ghk4Y5JWa+s022bgjMlcrOMel/EiC2eHL7A56z0ywH85jPuWM+PMsJu2OocrRMZ5IKRulSugRftuszzJsrj1Q6A2pB3leGXde9w24jU9WCCgyxBDlMe5/WfIzO5Gvj9qjYFXh7jsNQd0qbwm9mLELTf4brPcj2sUng2FdREAfePGDXRf+8OBh3GcADS+X2/5P/5PWtmzMcahRX0FtJDCubx8zmSnvb1PIgVn3OZk30aF258uX05jv3tct3j4o8rrma27d++WmW3X4prACPf/Hcapf7G6rTv5BbqHfzsXOY56SEA07buH9eIE9ikC/FSOL+5LhG3Ct9Q+6zqHAWPrWrYQpBmOw24DFMUPlDjiEoT9bDPHhQ0A/rKy6jbUETPQG0RWnWTZMTEDvIfXA980GT7bQR/itXr8jCqsIYABXm+c3eTdvPab1jUfAJytNqa4DR/luV2UEP/HuhFbeADtsoxrHBHmJLaiOonrLySg0X2NZzHX1dXhvQD0y4/FcWvWrMH4tQJ6vhTOw8OPACgD519/jQ6csTBIQ8MMFyDJwjmVIkzd4zrH4x/F6+pJA5D8sp7zITEzolegm2WedMiYbJWAodQDGQeQEwD36GME2XD452AAXWGALiyuY9DccsbyENebyVoEcQ5fsTL3XWLim/RdXlfZAs7vOg/hZ8QpkCXEhwXo4V7LwwuIOc26nxQjg0YGDMBevXoV23kBuqOjA3Xx+uJ+BbTC+e23zQpcWJwjUnDG0pr20p1YcnNoiDHd47rHYwYdicw5PIOeE9vjBGODQ3a1i3DvpfF+H6EhtY2g7KWTzCDDuiA70UYeK1Uruj33yutAGWwBD/sT7AHopY+xjHUoUZeAarAWF2kRXfMx1mVMs0BIG48zIlD3iXZ0sZ5UOT+nU6jH105m06Xi/G05jLquQowuYXmeBOoJVwuvL+AYNPw3fxBuLNYYNKCMcefu7m5s5wXoI0eOoB7GrJFJK6CLDefRUfG4Q8dHMn7xxQy7ot0fGxmLZQBl+yEQrg/SMF3QcG2tW7z335+1M2culOL+SMq6umcGzlhnO/pjzu5fYE5QVqmiP0nsNrv5y4o5i3tsbMxPkraiexuAXTCgUbe1tTWok0gkEEfvgw6Bsw+B1XMYwC9UpquOltnzUFQ4r1q16hmzoUKra4VAWaWAHvTduFT3QeM2SdTbvn07IG3M+6AxtoxteZ90UIb9+/fvN2BXQIfAGYtFFLAb2iXjwyIhZnY1/M47c95nn716ZorMFnE45oxM2inT3bEjMw9+7747J+s4xayoEI+0dHRX18RSwXlvSXF0aBlDWaU6KseXlwrQfX19NpjDAc1VxJBxYx+7xHNYAZ2UcI7qfck1NWa5Tf8940XjvmS2zwAfbUVZ8T+/CBqTPiScVarlLV3qM6SL29wfjful/2nvDjTbiuI4jgcgUaAVfYEwgAABUPQdCriGgrYYpmCPMAowAAF7jBEEYNhCAGEDBFvFZrm7fxxbxlK3uaduk8+Hn1ZKtES+VJzjLO7/eyvO4pxzcWa7OCcg0OPxOB6LU8PSOdz/zkEl4izO4vzUQKDTh8K2LA4yOeRAi7M4izPguklxFmdxBgRaoMVZnMUZCAL9rOLc7XZ/ZY6zOIvzSpxBoAW6Rpx7vd46Ph2XMc7iLM7f0lnOgEAL9PbD/N+JszjnWpz+UxSFOINAC3TNOL/PGGdxFuc4P1ecQaAFWpzFWZybAQi0OIuzOAMCLdDiLM7inAACfRBxns+XG1dGFsXq0bco3dysyuPjP7dSxQ1VV1e7PV+Kc+ziYue7klOcm/h708S5rUCg47apCNvG4rHNn7V/6fdOgd77OMfu7r7vdvewiXMbAZfVyj3dZWvi3O/315PJJMsb9GKxrO7tvG/kHuK40/js7Gd15diP8vq6mec7P0/P1cxub++rxffN3r88ny+fe5y/pvtngb2K9Jt9WhvifPR3nKfTabyhmuWM84sOAA/G+UOuOJstFotyNBqJM4A4mzgD7EKcTZwBEGcTZwBxNnGOfRFngHpxLlsUZxNnAHEeDAbrzHE2/9aeizNAzTjPZjNBsZxx/lx9Pe0AsNVptY+54mwWr6nhcCjOADXj/CljnE2c47VVI84AnKQ4x4qiaPymD7P6cQbgZf4bPszqxhmAo2qvMt/yYfa62knn0AEAAAAAAAAAAAAAAAAA8BvKIzc2KJn/iQAAAABJRU5ErkJggg==)"
      ],
      "metadata": {
        "id": "YZ_wSmG6KfGX"
      }
    },
    {
      "cell_type": "code",
      "execution_count": null,
      "metadata": {
        "id": "CVoC2L30xw4h"
      },
      "outputs": [],
      "source": [
        "#######Esta función es la que interactura con la api de GEE y general e método de reducción######\n",
        "def create_reduce_region_function(geometry,\n",
        "                                  reducer=ee.Reducer.mean(),\n",
        "                                  scale=1000,\n",
        "                                  crs='EPSG:4326',\n",
        "                                  bestEffort=True,\n",
        "                                  maxPixels=1e13,\n",
        "                                  tileScale=4):\n",
        "\n",
        "  def reduce_region_function(img):\n",
        "\n",
        "    stat = img.reduceRegion(\n",
        "        reducer=reducer,\n",
        "        geometry=geometry,\n",
        "        scale=scale,\n",
        "        crs=crs,\n",
        "        bestEffort=bestEffort,\n",
        "        maxPixels=maxPixels,\n",
        "        tileScale=tileScale)\n",
        "\n",
        "    return ee.Feature(geometry, stat).set({'millis': img.date().millis()})\n",
        "  return reduce_region_function\n",
        "\n"
      ]
    },
    {
      "cell_type": "markdown",
      "source": [
        "Dijimos que el resultado de aplicar la función de reducción sobre la colección de imagenes genera un *ee.FeatureCollection*. La función *fc_to_dict_* toma esa tabla y la transfiere al kernel de Python transformándolo en un diccionario. Por último con *add_date_info* transformamos en data frame de pandas y agregamos alguna información extra que nos va a ser más útil después. \n"
      ],
      "metadata": {
        "id": "Vc1V-DUOZyVB"
      }
    },
    {
      "cell_type": "code",
      "source": [
        "####Estas funciones transforman en diccionarios y luego en data frames la info reducida###\n",
        "\n",
        "# Define a function to transfer feature properties to a dictionary.\n",
        "def fc_to_dict(fc):\n",
        "  prop_names = fc.first().propertyNames()\n",
        "  prop_lists = fc.reduceColumns(\n",
        "      reducer=ee.Reducer.toList().repeat(prop_names.size()),\n",
        "      selectors=prop_names).get('list')\n",
        "\n",
        "  return ee.Dictionary.fromLists(prop_names, prop_lists)\n",
        "\n",
        "# Function to add date variables to DataFrame.\n",
        "def add_date_info(df):\n",
        "  df['Timestamp'] = pd.to_datetime(df['millis'], unit='ms')\n",
        "  df['Year'] = pd.DatetimeIndex(df['Timestamp']).year\n",
        "  df['Month'] = pd.DatetimeIndex(df['Timestamp']).month\n",
        "  df['Day'] = pd.DatetimeIndex(df['Timestamp']).day\n",
        "  df['DOY'] = pd.DatetimeIndex(df['Timestamp']).dayofyear\n",
        "  return df"
      ],
      "metadata": {
        "id": "6LN9-cIvZyg_"
      },
      "execution_count": null,
      "outputs": []
    },
    {
      "cell_type": "markdown",
      "source": [
        "####Descarga"
      ],
      "metadata": {
        "id": "c3FwhSNfhWKz"
      }
    },
    {
      "cell_type": "markdown",
      "metadata": {
        "id": "jEouHRmpx7RO"
      },
      "source": [
        "Bueno ya estamos listes para descargar nuestros datos."
      ]
    },
    {
      "cell_type": "code",
      "execution_count": null,
      "metadata": {
        "colab": {
          "base_uri": "https://localhost:8080/",
          "height": 17
        },
        "id": "WKL3f0-0yPBH",
        "outputId": "865585a0-0222-4af9-cf87-6358b661b66b"
      },
      "outputs": [
        {
          "output_type": "display_data",
          "data": {
            "text/plain": [
              "<IPython.core.display.Javascript object>"
            ],
            "application/javascript": [
              "\n",
              "    async function download(id, filename, size) {\n",
              "      if (!google.colab.kernel.accessAllowed) {\n",
              "        return;\n",
              "      }\n",
              "      const div = document.createElement('div');\n",
              "      const label = document.createElement('label');\n",
              "      label.textContent = `Downloading \"${filename}\": `;\n",
              "      div.appendChild(label);\n",
              "      const progress = document.createElement('progress');\n",
              "      progress.max = size;\n",
              "      div.appendChild(progress);\n",
              "      document.body.appendChild(div);\n",
              "\n",
              "      const buffers = [];\n",
              "      let downloaded = 0;\n",
              "\n",
              "      const channel = await google.colab.kernel.comms.open(id);\n",
              "      // Send a message to notify the kernel that we're ready.\n",
              "      channel.send({})\n",
              "\n",
              "      for await (const message of channel.messages) {\n",
              "        // Send a message to notify the kernel that we're ready.\n",
              "        channel.send({})\n",
              "        if (message.buffers) {\n",
              "          for (const buffer of message.buffers) {\n",
              "            buffers.push(buffer);\n",
              "            downloaded += buffer.byteLength;\n",
              "            progress.value = downloaded;\n",
              "          }\n",
              "        }\n",
              "      }\n",
              "      const blob = new Blob(buffers, {type: 'application/binary'});\n",
              "      const a = document.createElement('a');\n",
              "      a.href = window.URL.createObjectURL(blob);\n",
              "      a.download = filename;\n",
              "      div.appendChild(a);\n",
              "      a.click();\n",
              "      div.remove();\n",
              "    }\n",
              "  "
            ]
          },
          "metadata": {}
        },
        {
          "output_type": "display_data",
          "data": {
            "text/plain": [
              "<IPython.core.display.Javascript object>"
            ],
            "application/javascript": [
              "download(\"download_efc4999a-3fa7-4211-a039-d8aaad513e40\", \"Buenos Aires_NO2trop.csv\", 62994)"
            ]
          },
          "metadata": {}
        }
      ],
      "source": [
        "inicio='2018-07-01'\n",
        "final ='2020-12-01'\n",
        "    \n",
        "coleccion = 'COPERNICUS/S5P/OFFL/L3_NO2'\n",
        "variable  = 'tropospheric_NO2_column_number_density'\n",
        "var_name  = 'NO2_trop_mean'\n",
        "file_name = ciudad+'_NO2trop.csv'\n",
        "\n",
        "reduce_mean = create_reduce_region_function(geometry=roi, reducer=ee.Reducer.mean(), scale=1113.2, crs='EPSG:4326')\n",
        "reduce_std  = create_reduce_region_function(geometry=roi, reducer=ee.Reducer.sampleStdDev(), scale=1113.2, crs='EPSG:4326')\n",
        "\n",
        "gas_trop=ee.ImageCollection(coleccion).select(variable).filterDate(inicio,final)\n",
        "gas_trop_mean_fc = ee.FeatureCollection(gas_trop.map(reduce_mean)).filter(\n",
        "    ee.Filter.notNull(gas_trop.first().bandNames()))\n",
        "gas_trop_std_fc = ee.FeatureCollection(gas_trop.map(reduce_std)).filter(\n",
        "    ee.Filter.notNull(gas_trop.first().bandNames()))\n",
        "\n",
        "gas_trop_mean_dict=fc_to_dict(gas_trop_mean_fc).getInfo()\n",
        "gas_trop_std_dict=fc_to_dict(gas_trop_std_fc).getInfo()\n",
        "\n",
        "gas_trop_mean_df=pd.DataFrame(gas_trop_mean_dict)\n",
        "gas_trop_std_df=pd.DataFrame(gas_trop_std_dict)\n",
        "\n",
        "gas_trop_mean_df =  add_date_info(gas_trop_mean_df)\n",
        "gas_trop_mean_df  = gas_trop_mean_df.rename(columns={variable: var_name}).drop(columns=['millis', 'system:index'])\n",
        "gas_trop_mean_df['NO2_trop_std']=gas_trop_std_df[variable]\n",
        "\n",
        "gas_trop_mean_df.to_csv(file_name,index=True)\n",
        "files.download(file_name)"
      ]
    },
    {
      "cell_type": "markdown",
      "source": [
        "####Pre-procesamiento de las ST"
      ],
      "metadata": {
        "id": "NoGj2Fazh7fT"
      }
    },
    {
      "cell_type": "markdown",
      "metadata": {
        "id": "5CRF_pg9m8Hc"
      },
      "source": [
        "Sentinel es un sátelite de órbita polar, por lo que hay una observación por día, o a veces por solapamiento del camino del satélite hay dos (y para latitudes bajas puede haber alguna región no observada!). Por otro lado, el sensor Tropomi es sensible a la cobertura nubosa. La medición puede verse afectada y debido al control de calidad hecho por GEE, hay observaciones que son descartadas. \n",
        "\n",
        "Para el TP, reducimos las observaciones diarias a una por día tomando el promedio de todos los pixeles. El resultado final es una serie temporal diaria con datos faltantes.\n",
        "\n",
        "¿Qué tipo de limitaciones contrae esta elección?"
      ]
    },
    {
      "cell_type": "markdown",
      "metadata": {
        "id": "z-qT2i7e-bSj"
      },
      "source": [
        "Les dejamos el código para realizar las medias diarias, semanales y mensuales. Para ahorrar tiempo y evitar tener que subir al drive de cada uno de ustedes los archivos, ya cargamos las series calculadas. Entre otras cosas, tiramos los datos posteriores al 27 de noviembre e intercalamos explicitamente los datos faltantes para que nos quede una serie de tiempo equiespaciada (solo en el caso diario y en el semanal, porque no hay meses con datos faltantes). También figura cuántos días se utilizaron para hacer las medias semanales y mensuales.\n",
        "\n"
      ]
    },
    {
      "cell_type": "code",
      "execution_count": null,
      "metadata": {
        "colab": {
          "base_uri": "https://localhost:8080/"
        },
        "id": "lSVloLeIAeiF",
        "outputId": "7ad6b7d1-2d6d-4419-96ad-bb2ef2c500c0"
      },
      "outputs": [
        {
          "output_type": "stream",
          "name": "stdout",
          "text": [
            "Collecting isoweek\n",
            "  Downloading isoweek-1.3.3-py2.py3-none-any.whl (7.1 kB)\n",
            "Installing collected packages: isoweek\n",
            "Successfully installed isoweek-1.3.3\n"
          ]
        }
      ],
      "source": [
        "!pip install isoweek\n",
        "import isoweek"
      ]
    },
    {
      "cell_type": "code",
      "execution_count": null,
      "metadata": {
        "colab": {
          "base_uri": "https://localhost:8080/",
          "height": 17
        },
        "id": "R0jtk1fl-xCn",
        "outputId": "dd61ed7b-a0e5-4c13-8ed7-5556015de2db"
      },
      "outputs": [
        {
          "output_type": "display_data",
          "data": {
            "text/plain": [
              "<IPython.core.display.Javascript object>"
            ],
            "application/javascript": [
              "\n",
              "    async function download(id, filename, size) {\n",
              "      if (!google.colab.kernel.accessAllowed) {\n",
              "        return;\n",
              "      }\n",
              "      const div = document.createElement('div');\n",
              "      const label = document.createElement('label');\n",
              "      label.textContent = `Downloading \"${filename}\": `;\n",
              "      div.appendChild(label);\n",
              "      const progress = document.createElement('progress');\n",
              "      progress.max = size;\n",
              "      div.appendChild(progress);\n",
              "      document.body.appendChild(div);\n",
              "\n",
              "      const buffers = [];\n",
              "      let downloaded = 0;\n",
              "\n",
              "      const channel = await google.colab.kernel.comms.open(id);\n",
              "      // Send a message to notify the kernel that we're ready.\n",
              "      channel.send({})\n",
              "\n",
              "      for await (const message of channel.messages) {\n",
              "        // Send a message to notify the kernel that we're ready.\n",
              "        channel.send({})\n",
              "        if (message.buffers) {\n",
              "          for (const buffer of message.buffers) {\n",
              "            buffers.push(buffer);\n",
              "            downloaded += buffer.byteLength;\n",
              "            progress.value = downloaded;\n",
              "          }\n",
              "        }\n",
              "      }\n",
              "      const blob = new Blob(buffers, {type: 'application/binary'});\n",
              "      const a = document.createElement('a');\n",
              "      a.href = window.URL.createObjectURL(blob);\n",
              "      a.download = filename;\n",
              "      div.appendChild(a);\n",
              "      a.click();\n",
              "      div.remove();\n",
              "    }\n",
              "  "
            ]
          },
          "metadata": {}
        },
        {
          "output_type": "display_data",
          "data": {
            "text/plain": [
              "<IPython.core.display.Javascript object>"
            ],
            "application/javascript": [
              "download(\"download_2e20ea60-6fd7-49dc-b60c-bd80444538c5\", \"Buenos Aires_NO2trop_diario.csv\", 53595)"
            ]
          },
          "metadata": {}
        },
        {
          "output_type": "display_data",
          "data": {
            "text/plain": [
              "<IPython.core.display.Javascript object>"
            ],
            "application/javascript": [
              "\n",
              "    async function download(id, filename, size) {\n",
              "      if (!google.colab.kernel.accessAllowed) {\n",
              "        return;\n",
              "      }\n",
              "      const div = document.createElement('div');\n",
              "      const label = document.createElement('label');\n",
              "      label.textContent = `Downloading \"${filename}\": `;\n",
              "      div.appendChild(label);\n",
              "      const progress = document.createElement('progress');\n",
              "      progress.max = size;\n",
              "      div.appendChild(progress);\n",
              "      document.body.appendChild(div);\n",
              "\n",
              "      const buffers = [];\n",
              "      let downloaded = 0;\n",
              "\n",
              "      const channel = await google.colab.kernel.comms.open(id);\n",
              "      // Send a message to notify the kernel that we're ready.\n",
              "      channel.send({})\n",
              "\n",
              "      for await (const message of channel.messages) {\n",
              "        // Send a message to notify the kernel that we're ready.\n",
              "        channel.send({})\n",
              "        if (message.buffers) {\n",
              "          for (const buffer of message.buffers) {\n",
              "            buffers.push(buffer);\n",
              "            downloaded += buffer.byteLength;\n",
              "            progress.value = downloaded;\n",
              "          }\n",
              "        }\n",
              "      }\n",
              "      const blob = new Blob(buffers, {type: 'application/binary'});\n",
              "      const a = document.createElement('a');\n",
              "      a.href = window.URL.createObjectURL(blob);\n",
              "      a.download = filename;\n",
              "      div.appendChild(a);\n",
              "      a.click();\n",
              "      div.remove();\n",
              "    }\n",
              "  "
            ]
          },
          "metadata": {}
        },
        {
          "output_type": "display_data",
          "data": {
            "text/plain": [
              "<IPython.core.display.Javascript object>"
            ],
            "application/javascript": [
              "download(\"download_0a19e2aa-f421-4c57-b43b-6fb2f194912c\", \"Buenos Aires_NO2trop_semanal.csv\", 8297)"
            ]
          },
          "metadata": {}
        },
        {
          "output_type": "display_data",
          "data": {
            "text/plain": [
              "<IPython.core.display.Javascript object>"
            ],
            "application/javascript": [
              "\n",
              "    async function download(id, filename, size) {\n",
              "      if (!google.colab.kernel.accessAllowed) {\n",
              "        return;\n",
              "      }\n",
              "      const div = document.createElement('div');\n",
              "      const label = document.createElement('label');\n",
              "      label.textContent = `Downloading \"${filename}\": `;\n",
              "      div.appendChild(label);\n",
              "      const progress = document.createElement('progress');\n",
              "      progress.max = size;\n",
              "      div.appendChild(progress);\n",
              "      document.body.appendChild(div);\n",
              "\n",
              "      const buffers = [];\n",
              "      let downloaded = 0;\n",
              "\n",
              "      const channel = await google.colab.kernel.comms.open(id);\n",
              "      // Send a message to notify the kernel that we're ready.\n",
              "      channel.send({})\n",
              "\n",
              "      for await (const message of channel.messages) {\n",
              "        // Send a message to notify the kernel that we're ready.\n",
              "        channel.send({})\n",
              "        if (message.buffers) {\n",
              "          for (const buffer of message.buffers) {\n",
              "            buffers.push(buffer);\n",
              "            downloaded += buffer.byteLength;\n",
              "            progress.value = downloaded;\n",
              "          }\n",
              "        }\n",
              "      }\n",
              "      const blob = new Blob(buffers, {type: 'application/binary'});\n",
              "      const a = document.createElement('a');\n",
              "      a.href = window.URL.createObjectURL(blob);\n",
              "      a.download = filename;\n",
              "      div.appendChild(a);\n",
              "      a.click();\n",
              "      div.remove();\n",
              "    }\n",
              "  "
            ]
          },
          "metadata": {}
        },
        {
          "output_type": "display_data",
          "data": {
            "text/plain": [
              "<IPython.core.display.Javascript object>"
            ],
            "application/javascript": [
              "download(\"download_bd1ec702-035d-4fbb-a63d-c2ac10d1c1be\", \"Buenos Aires_NO2trop_mensual.csv\", 1974)"
            ]
          },
          "metadata": {}
        }
      ],
      "source": [
        "\n",
        "import datetime \n",
        "import pandas as pd\n",
        "import numpy as np\n",
        "import matplotlib.pyplot as plt\n",
        "import warnings\n",
        "warnings.filterwarnings(\"ignore\")\n",
        "\n",
        " \n",
        "\n",
        "ciudad='Buenos Aires'\n",
        "gas='NO2_trop'\n",
        "columna=gas+'_mean'\n",
        "columna_std= gas+'_std'\n",
        "    \n",
        " \n",
        "df=pd.read_csv('Herramientas-cuantitativas-Contaminacion-aire-y-vehiculos/Datos/Buenos Aires_NO2trop_crudo.csv')   \n",
        "df_diario=df.groupby(['Year','Month','Day']).mean().reset_index()\n",
        "df_diario['Fecha_datetime']=pd.to_datetime(df_diario['Year'].astype(str)+'-'+df_diario['Month'].astype(str)+'-'+df_diario['Day'].astype(str),format='%Y-%m-%d')\n",
        "df_diario=df_diario[df_diario['Fecha_datetime']<datetime.datetime(2020,11,27)] ### saco los valores posteriores a 27 de nov de 2020 por calibracion\n",
        "df_diario.drop(columns=['Unnamed: 0','DOY'],inplace=True)\n",
        "\n",
        "##Relleno con datos faltantes de manera explicita)\n",
        "t=df_diario.Fecha_datetime.values\n",
        "dias_completos=pd.date_range(start=t[0], end=t[-1]).to_frame(name='Fecha_datetime')\n",
        "df_diario=dias_completos.merge(df_diario, how='left',on='Fecha_datetime')\n",
        "df_diario['Year']=df_diario['Fecha_datetime'].dt.year\n",
        "df_diario['Month']=df_diario['Fecha_datetime'].dt.month\n",
        "df_diario['Day']=df_diario['Fecha_datetime'].dt.day\n",
        "\n",
        "\n",
        "###########Calculo las medias semanales###############################    \n",
        "df_semanal=df_diario\n",
        "dia=df_diario.Fecha_datetime.dt.date.values\n",
        "semanas=[isoweek.Week.withdate(d) for d in dia]\n",
        "df_semanal['WeekofYear']=semanas\n",
        "df_semanal_count=df_semanal.groupby(['WeekofYear']).count().reset_index()\n",
        "df_semanal=df_semanal.groupby(['WeekofYear']).mean().reset_index()\n",
        "df_semanal['N_days']=df_semanal_count[columna]\n",
        "lunes=[isoweek.Week.monday(s) for s in df_semanal.WeekofYear.values]\n",
        "df_semanal['Fecha_datetime']=lunes\n",
        "df_semanal.drop(columns=['Year','Month','Day'],inplace=True) \n",
        "\n",
        "\n",
        "###########Calculo las medias mensuales ######################################    \n",
        "df_mensual=df_diario.groupby(['Year','Month']).mean().reset_index()\n",
        "df_mensual_c=df_diario.groupby(['Year','Month']).count().reset_index()\n",
        "df_mensual['Fecha_datetime']=pd.to_datetime(df_mensual['Year'].astype(str)+'-'+df_mensual['Month'].astype(str),format='%Y-%m')\n",
        "df_mensual.drop(columns=['Day'],inplace=True)\n",
        "df_mensual['N_days']=df_mensual_c[columna]\n",
        "\n",
        "\n",
        "df_diario.to_csv(ciudad+'_NO2trop_diario.csv',index=False)\n",
        "df_semanal.to_csv(ciudad+'_NO2trop_semanal.csv',index=False)\n",
        "df_mensual.to_csv(ciudad+'_NO2trop_mensual.csv',index=False)\n",
        "\n",
        "files.download(ciudad+'_NO2trop_diario.csv')\n",
        "files.download(ciudad+'_NO2trop_semanal.csv')\n",
        "files.download(ciudad+'_NO2trop_mensual.csv')\n"
      ]
    },
    {
      "cell_type": "markdown",
      "source": [
        "##Análisis de las ST"
      ],
      "metadata": {
        "id": "B8d5xe40iRDz"
      }
    },
    {
      "cell_type": "markdown",
      "metadata": {
        "id": "03xnXmz2oO-k"
      },
      "source": [
        "Analicemos la serie temporal de NO$_2$ de julio 2018 a diciembre 2021 sobre la ciudad de Buenos Aires. Hubo una actualización en diciembre 2020 en la forma en la que Copernicus preprocesa las observaciones del TROPOMI  de  NO$_2$ y eso generó un salto espurio positivo en las observaciones. Al momento se recalibraron las observaciones hasta el 14 de noviembre del 2021 pero éstas aún no están disponibles en la plataforma GEE."
      ]
    },
    {
      "cell_type": "code",
      "execution_count": null,
      "metadata": {
        "colab": {
          "base_uri": "https://localhost:8080/",
          "height": 424
        },
        "id": "BFLGyNtsqxuN",
        "outputId": "4ff3ca66-6518-47f7-de33-8b27ad5371fd"
      },
      "outputs": [
        {
          "output_type": "execute_result",
          "data": {
            "text/plain": [
              "    Fecha_datetime  Year  Month  Day  NO2_trop_mean  NO2_trop_std WeekofYear\n",
              "0       2018-07-08  2018      7    8       0.000051      0.000025    2018W27\n",
              "1       2018-07-09  2018      7    9            NaN           NaN    2018W28\n",
              "2       2018-07-10  2018      7   10            NaN           NaN    2018W28\n",
              "3       2018-07-11  2018      7   11       0.000095      0.000010    2018W28\n",
              "4       2018-07-12  2018      7   12       0.000157      0.000016    2018W28\n",
              "..             ...   ...    ...  ...            ...           ...        ...\n",
              "868     2020-11-22  2020     11   22       0.000049      0.000022    2020W47\n",
              "869     2020-11-23  2020     11   23       0.000060      0.000026    2020W48\n",
              "870     2020-11-24  2020     11   24            NaN           NaN    2020W48\n",
              "871     2020-11-25  2020     11   25       0.000081      0.000033    2020W48\n",
              "872     2020-11-26  2020     11   26       0.000069      0.000057    2020W48\n",
              "\n",
              "[873 rows x 7 columns]"
            ],
            "text/html": [
              "\n",
              "  <div id=\"df-1a7f97ac-2aaa-4c18-982d-5311086e6abe\">\n",
              "    <div class=\"colab-df-container\">\n",
              "      <div>\n",
              "<style scoped>\n",
              "    .dataframe tbody tr th:only-of-type {\n",
              "        vertical-align: middle;\n",
              "    }\n",
              "\n",
              "    .dataframe tbody tr th {\n",
              "        vertical-align: top;\n",
              "    }\n",
              "\n",
              "    .dataframe thead th {\n",
              "        text-align: right;\n",
              "    }\n",
              "</style>\n",
              "<table border=\"1\" class=\"dataframe\">\n",
              "  <thead>\n",
              "    <tr style=\"text-align: right;\">\n",
              "      <th></th>\n",
              "      <th>Fecha_datetime</th>\n",
              "      <th>Year</th>\n",
              "      <th>Month</th>\n",
              "      <th>Day</th>\n",
              "      <th>NO2_trop_mean</th>\n",
              "      <th>NO2_trop_std</th>\n",
              "      <th>WeekofYear</th>\n",
              "    </tr>\n",
              "  </thead>\n",
              "  <tbody>\n",
              "    <tr>\n",
              "      <th>0</th>\n",
              "      <td>2018-07-08</td>\n",
              "      <td>2018</td>\n",
              "      <td>7</td>\n",
              "      <td>8</td>\n",
              "      <td>0.000051</td>\n",
              "      <td>0.000025</td>\n",
              "      <td>2018W27</td>\n",
              "    </tr>\n",
              "    <tr>\n",
              "      <th>1</th>\n",
              "      <td>2018-07-09</td>\n",
              "      <td>2018</td>\n",
              "      <td>7</td>\n",
              "      <td>9</td>\n",
              "      <td>NaN</td>\n",
              "      <td>NaN</td>\n",
              "      <td>2018W28</td>\n",
              "    </tr>\n",
              "    <tr>\n",
              "      <th>2</th>\n",
              "      <td>2018-07-10</td>\n",
              "      <td>2018</td>\n",
              "      <td>7</td>\n",
              "      <td>10</td>\n",
              "      <td>NaN</td>\n",
              "      <td>NaN</td>\n",
              "      <td>2018W28</td>\n",
              "    </tr>\n",
              "    <tr>\n",
              "      <th>3</th>\n",
              "      <td>2018-07-11</td>\n",
              "      <td>2018</td>\n",
              "      <td>7</td>\n",
              "      <td>11</td>\n",
              "      <td>0.000095</td>\n",
              "      <td>0.000010</td>\n",
              "      <td>2018W28</td>\n",
              "    </tr>\n",
              "    <tr>\n",
              "      <th>4</th>\n",
              "      <td>2018-07-12</td>\n",
              "      <td>2018</td>\n",
              "      <td>7</td>\n",
              "      <td>12</td>\n",
              "      <td>0.000157</td>\n",
              "      <td>0.000016</td>\n",
              "      <td>2018W28</td>\n",
              "    </tr>\n",
              "    <tr>\n",
              "      <th>...</th>\n",
              "      <td>...</td>\n",
              "      <td>...</td>\n",
              "      <td>...</td>\n",
              "      <td>...</td>\n",
              "      <td>...</td>\n",
              "      <td>...</td>\n",
              "      <td>...</td>\n",
              "    </tr>\n",
              "    <tr>\n",
              "      <th>868</th>\n",
              "      <td>2020-11-22</td>\n",
              "      <td>2020</td>\n",
              "      <td>11</td>\n",
              "      <td>22</td>\n",
              "      <td>0.000049</td>\n",
              "      <td>0.000022</td>\n",
              "      <td>2020W47</td>\n",
              "    </tr>\n",
              "    <tr>\n",
              "      <th>869</th>\n",
              "      <td>2020-11-23</td>\n",
              "      <td>2020</td>\n",
              "      <td>11</td>\n",
              "      <td>23</td>\n",
              "      <td>0.000060</td>\n",
              "      <td>0.000026</td>\n",
              "      <td>2020W48</td>\n",
              "    </tr>\n",
              "    <tr>\n",
              "      <th>870</th>\n",
              "      <td>2020-11-24</td>\n",
              "      <td>2020</td>\n",
              "      <td>11</td>\n",
              "      <td>24</td>\n",
              "      <td>NaN</td>\n",
              "      <td>NaN</td>\n",
              "      <td>2020W48</td>\n",
              "    </tr>\n",
              "    <tr>\n",
              "      <th>871</th>\n",
              "      <td>2020-11-25</td>\n",
              "      <td>2020</td>\n",
              "      <td>11</td>\n",
              "      <td>25</td>\n",
              "      <td>0.000081</td>\n",
              "      <td>0.000033</td>\n",
              "      <td>2020W48</td>\n",
              "    </tr>\n",
              "    <tr>\n",
              "      <th>872</th>\n",
              "      <td>2020-11-26</td>\n",
              "      <td>2020</td>\n",
              "      <td>11</td>\n",
              "      <td>26</td>\n",
              "      <td>0.000069</td>\n",
              "      <td>0.000057</td>\n",
              "      <td>2020W48</td>\n",
              "    </tr>\n",
              "  </tbody>\n",
              "</table>\n",
              "<p>873 rows × 7 columns</p>\n",
              "</div>\n",
              "      <button class=\"colab-df-convert\" onclick=\"convertToInteractive('df-1a7f97ac-2aaa-4c18-982d-5311086e6abe')\"\n",
              "              title=\"Convert this dataframe to an interactive table.\"\n",
              "              style=\"display:none;\">\n",
              "        \n",
              "  <svg xmlns=\"http://www.w3.org/2000/svg\" height=\"24px\"viewBox=\"0 0 24 24\"\n",
              "       width=\"24px\">\n",
              "    <path d=\"M0 0h24v24H0V0z\" fill=\"none\"/>\n",
              "    <path d=\"M18.56 5.44l.94 2.06.94-2.06 2.06-.94-2.06-.94-.94-2.06-.94 2.06-2.06.94zm-11 1L8.5 8.5l.94-2.06 2.06-.94-2.06-.94L8.5 2.5l-.94 2.06-2.06.94zm10 10l.94 2.06.94-2.06 2.06-.94-2.06-.94-.94-2.06-.94 2.06-2.06.94z\"/><path d=\"M17.41 7.96l-1.37-1.37c-.4-.4-.92-.59-1.43-.59-.52 0-1.04.2-1.43.59L10.3 9.45l-7.72 7.72c-.78.78-.78 2.05 0 2.83L4 21.41c.39.39.9.59 1.41.59.51 0 1.02-.2 1.41-.59l7.78-7.78 2.81-2.81c.8-.78.8-2.07 0-2.86zM5.41 20L4 18.59l7.72-7.72 1.47 1.35L5.41 20z\"/>\n",
              "  </svg>\n",
              "      </button>\n",
              "      \n",
              "  <style>\n",
              "    .colab-df-container {\n",
              "      display:flex;\n",
              "      flex-wrap:wrap;\n",
              "      gap: 12px;\n",
              "    }\n",
              "\n",
              "    .colab-df-convert {\n",
              "      background-color: #E8F0FE;\n",
              "      border: none;\n",
              "      border-radius: 50%;\n",
              "      cursor: pointer;\n",
              "      display: none;\n",
              "      fill: #1967D2;\n",
              "      height: 32px;\n",
              "      padding: 0 0 0 0;\n",
              "      width: 32px;\n",
              "    }\n",
              "\n",
              "    .colab-df-convert:hover {\n",
              "      background-color: #E2EBFA;\n",
              "      box-shadow: 0px 1px 2px rgba(60, 64, 67, 0.3), 0px 1px 3px 1px rgba(60, 64, 67, 0.15);\n",
              "      fill: #174EA6;\n",
              "    }\n",
              "\n",
              "    [theme=dark] .colab-df-convert {\n",
              "      background-color: #3B4455;\n",
              "      fill: #D2E3FC;\n",
              "    }\n",
              "\n",
              "    [theme=dark] .colab-df-convert:hover {\n",
              "      background-color: #434B5C;\n",
              "      box-shadow: 0px 1px 3px 1px rgba(0, 0, 0, 0.15);\n",
              "      filter: drop-shadow(0px 1px 2px rgba(0, 0, 0, 0.3));\n",
              "      fill: #FFFFFF;\n",
              "    }\n",
              "  </style>\n",
              "\n",
              "      <script>\n",
              "        const buttonEl =\n",
              "          document.querySelector('#df-1a7f97ac-2aaa-4c18-982d-5311086e6abe button.colab-df-convert');\n",
              "        buttonEl.style.display =\n",
              "          google.colab.kernel.accessAllowed ? 'block' : 'none';\n",
              "\n",
              "        async function convertToInteractive(key) {\n",
              "          const element = document.querySelector('#df-1a7f97ac-2aaa-4c18-982d-5311086e6abe');\n",
              "          const dataTable =\n",
              "            await google.colab.kernel.invokeFunction('convertToInteractive',\n",
              "                                                     [key], {});\n",
              "          if (!dataTable) return;\n",
              "\n",
              "          const docLinkHtml = 'Like what you see? Visit the ' +\n",
              "            '<a target=\"_blank\" href=https://colab.research.google.com/notebooks/data_table.ipynb>data table notebook</a>'\n",
              "            + ' to learn more about interactive tables.';\n",
              "          element.innerHTML = '';\n",
              "          dataTable['output_type'] = 'display_data';\n",
              "          await google.colab.output.renderOutput(dataTable, element);\n",
              "          const docLink = document.createElement('div');\n",
              "          docLink.innerHTML = docLinkHtml;\n",
              "          element.appendChild(docLink);\n",
              "        }\n",
              "      </script>\n",
              "    </div>\n",
              "  </div>\n",
              "  "
            ]
          },
          "metadata": {},
          "execution_count": 4
        }
      ],
      "source": [
        "df   = pd.read_csv('Herramientas-cuantitativas-Contaminacion-aire-y-vehiculos/Datos/Buenos Aires_NO2trop_diario.csv')\n",
        "df_w = pd.read_csv('Herramientas-cuantitativas-Contaminacion-aire-y-vehiculos/Datos/Buenos Aires_NO2trop_semanal.csv')\n",
        "df_m = pd.read_csv('Herramientas-cuantitativas-Contaminacion-aire-y-vehiculos/Datos/Buenos Aires_NO2trop_mensual.csv')\n",
        "\n",
        "df"
      ]
    },
    {
      "cell_type": "code",
      "execution_count": null,
      "metadata": {
        "id": "dIwZqrAckTkn"
      },
      "outputs": [],
      "source": [
        "df['Fecha_datetime']=pd.to_datetime(df['Fecha_datetime'].astype(str),format='%Y-%m-%d')  ##esto transforma el formato de la fecha de string a datetime"
      ]
    },
    {
      "cell_type": "markdown",
      "metadata": {
        "id": "s0IzOv0ytM9R"
      },
      "source": [
        "Vamos a trabajar entonces con la serie. Primero visualicémosla. Variemos la ventana temporal de datos para observar posibles patrones modificando los objetos \"inicio\" y \"fin\" siempre respetando el formato 'YYYY-MM-DD'. "
      ]
    },
    {
      "cell_type": "code",
      "execution_count": null,
      "metadata": {
        "colab": {
          "base_uri": "https://localhost:8080/",
          "height": 329
        },
        "id": "7hnCCeXnkTja",
        "outputId": "fee6a505-b7a0-437b-f8d1-805e7f97807b"
      },
      "outputs": [
        {
          "output_type": "stream",
          "name": "stderr",
          "text": [
            "No handles with labels found to put in legend.\n"
          ]
        },
        {
          "output_type": "execute_result",
          "data": {
            "text/plain": [
              "<matplotlib.legend.Legend at 0x7f1a1bd58410>"
            ]
          },
          "metadata": {},
          "execution_count": 8
        },
        {
          "output_type": "display_data",
          "data": {
            "text/plain": [
              "<Figure size 1080x288 with 1 Axes>"
            ],
            "image/png": "[encoded data removed]"
          },
          "metadata": {
            "needs_background": "light"
          }
        }
      ],
      "source": [
        "inicio='2019-01-01'\n",
        "fin   ='2020-01-01'\n",
        "\n",
        "########################no tocar ###############\n",
        "import datetime\n",
        "columna='NO2_trop_mean'\n",
        "gasname = 'NO2 troposferico'\n",
        "\n",
        "figsize=(15,4)\n",
        "rango=np.logical_and(df['Fecha_datetime']>= inicio,df['Fecha_datetime']<=fin)\n",
        "da=df[rango]\n",
        "plt.figure(figsize=figsize)\n",
        "plt.plot(da.Fecha_datetime,da[columna],'ro:')\n",
        "plt.suptitle('Serie diaria de '+gasname+ ' - '+ciudad)\n",
        "plt.grid(axis='y',alpha=0.4)\n",
        "plt.ylabel(gasname+ ' (mol/m2)')\n",
        "plt.legend()\n",
        "\n",
        "###Por si quieren descargar la imagen\n",
        "#plt.savefig(ciudad +'seriediaria.png',bbox_inches='tight',dpi=500)\n",
        "#files.download(ciudad +'seriediaria.png')"
      ]
    },
    {
      "cell_type": "markdown",
      "metadata": {
        "id": "OTyVW8Px3yIM"
      },
      "source": [
        "A priori la serie parece bastante ruidosa. Hay varios métodos para ver qué tipo de dinámica interna tiene una serie temporal. Particularmente estamos trabajando con una serie bastante corta y con mucho dato faltante. Una forma de ver qué tipo de ciclos posee una serie es hacer un autocorrelograma. Sin embargo hay que tener cuidado con los datos faltantes. Los autocorrelogramas (y muchos análisis estadísticos sobre series temporales) necesitan que la serie sea temporalmente equiespaciada.\n",
        "\n",
        "*   Con los datos obtenidos de Sentinel, ¿se cumple esa exigencia?\n",
        "*   ¿Qué podríamos hacer con los datos faltantes?\n",
        "\n",
        "Si bien en la tabla de datos bajada no figuran los faltantes, viendo las fechas se puede observar que hay días que no figuran. Los agregamos de manera explícita."
      ]
    },
    {
      "cell_type": "code",
      "execution_count": null,
      "metadata": {
        "colab": {
          "base_uri": "https://localhost:8080/",
          "height": 374
        },
        "id": "xn6CmTIz3xpt",
        "outputId": "d0e34820-7942-4161-de23-ab18bfbc845e"
      },
      "outputs": [
        {
          "output_type": "stream",
          "name": "stderr",
          "text": [
            "/usr/local/lib/python3.7/dist-packages/ipykernel_launcher.py:16: SettingWithCopyWarning: \n",
            "A value is trying to be set on a copy of a slice from a DataFrame.\n",
            "Try using .loc[row_indexer,col_indexer] = value instead\n",
            "\n",
            "See the caveats in the documentation: https://pandas.pydata.org/pandas-docs/stable/user_guide/indexing.html#returning-a-view-versus-a-copy\n",
            "  app.launch_new_instance()\n",
            "/usr/local/lib/python3.7/dist-packages/ipykernel_launcher.py:16: PerformanceWarning: DataFrame is highly fragmented.  This is usually the result of calling `frame.insert` many times, which has poor performance.  Consider joining all columns at once using pd.concat(axis=1) instead.  To get a de-fragmented frame, use `newframe = frame.copy()`\n",
            "  app.launch_new_instance()\n"
          ]
        },
        {
          "output_type": "execute_result",
          "data": {
            "text/plain": [
              "Text(0.5, 1.0, 'Autocorrelograma de la serie diaria')"
            ]
          },
          "metadata": {},
          "execution_count": 19
        },
        {
          "output_type": "display_data",
          "data": {
            "text/plain": [
              "<Figure size 2160x360 with 1 Axes>"
            ],
            "image/png": "[encoded data removed]"
          },
          "metadata": {
            "needs_background": "light"
          }
        }
      ],
      "source": [
        "############# parametros para tocar#########3\n",
        "N= len(df[columna])       \n",
        "lags = N//4\n",
        "pvalor =0.01\n",
        "\n",
        "###############no tocar ############\n",
        "from scipy.stats import pearsonr\n",
        "\n",
        "df_autocor=df[['Fecha_datetime','NO2_trop_mean']]\n",
        "color_significativo = 'blue'\n",
        "color_no_sig = 'white'\n",
        "figsize=(30,5)\n",
        "titulo = 'Autocorrelograma de la serie diaria'\n",
        "\n",
        "for i in range(lags+1):\n",
        "    df_autocor['lag_'+str(i)]=df_autocor[columna].shift(i)\n",
        "\n",
        "rho=[]\n",
        "pval=[]\n",
        "for i in range(lags+1):\n",
        "    lagfila='lag_'+str(i)\n",
        "    columnas=[columna,lagfila]\n",
        "    a=df_autocor[columnas]\n",
        "    b=a.dropna()._get_numeric_data()\n",
        "    rho.append(pearsonr(b[columna], b[lagfila])[0])\n",
        "    pval.append(pearsonr(b[columna], b[lagfila])[1])\n",
        "\n",
        "rhoenmascarado=np.copy(rho)\n",
        "\n",
        "for i in range(len(pval)):\n",
        "    if pval[i]>pvalor:\n",
        "        rhoenmascarado[i]=0\n",
        "\n",
        "plt.figure(figsize=figsize)\n",
        "plt.bar(np.arange(1,lags+1),rho[1:],color=color_no_sig,edgecolor='black')\n",
        "plt.bar(np.arange(1,lags+1),rhoenmascarado[1:],color=color_significativo,edgecolor=color_significativo)\n",
        "plt.grid(color='black',alpha=0.4)\n",
        "plt.xlabel('Lags (dias)')\n",
        "plt.title(titulo)\n",
        "\n",
        "###Por si quieren descargar la imagen\n",
        "#plt.savefig(ciudad +'acf.png',bbox_inches='tight',dpi=500)\n",
        "#files.download(ciudad +'acf.png')"
      ]
    },
    {
      "cell_type": "markdown",
      "metadata": {
        "id": "Tc32AlqLOBoV"
      },
      "source": [
        "Hicimos el código del autocorrelograma a mano, porque Colab tiene una versión de Python más vieja, y el paquete *statsmodels* que hace autocorrelogramas con datos faltantes necesita una versión de Python más nueva. Les dejamos el código para que lo corran en sus notebooks (que esperamos tengan un python 3.8). \n",
        "\n",
        "\n",
        "```\n",
        "import statsmodels.api as sm\n",
        "\n",
        "sm.graphics.tsa.plot_acf(df_autocor[columna], lags=400,missing='conservative')\n",
        "plt.show()\n",
        "```\n",
        "\n",
        "\n",
        "\n",
        "Si corren la celda en el colab les va a decir que esta función no tiene un parámetro \"missing\" (el que trata los datos faltantes) porque en esta versión del *acf* del paquete *statsmodels* no tiene esa opción. \n",
        "En el gráfico anterior se ven en negro las correlaciones significativas. Se ve que hay un pico entre los 6 y 7 días, otro en los 27 y 28. (7 y 28 son múltiplos, luego aparece el 35 y más adelante en los 56). Es decir que la serie correlaciona muy bien consigo misma si se desfasa entre 6 y 7 días o en múltiplos enteros. Eso significa que la serie temporal tiene un patron semanal.\n",
        "\n",
        "*   En meteorología ¿qué patrones estacionales usuales esperarían ver? \n",
        "\n",
        "*   Si la serie meteorológica fuese de resolución horaria ¿en qué $\\Delta t$ observarían picos de correlación significativa?\n",
        "\n",
        "*   ¿Hay algun fenómeno natural que sea semanal? ¿que diferencie días de semana de fines de semana?\n",
        "\n",
        "*   ¿Qué pasa con los casos de COVID? El virus no diferencia lunes de domingos,  sin embargo hay menos registro de casos los fines de semana. La forma de medición impone un sesgo a los datos.  \n",
        "\n",
        "*   Este gráfico muestra que este gas tiene un fuerte comportamiento asociado a la actividad humana (que sí diferencia lunes de domingos) ¿qué podríamos concluir con esta observación?\n"
      ]
    },
    {
      "cell_type": "markdown",
      "metadata": {
        "id": "Kvhjmg-xqzZb"
      },
      "source": [
        "Para ver otro tipo de variabilidad interna más alla de la semanal tenemos varios métodos. Reducción de resolución tomando medias semanales, promedios móviles con una ventana de 7 días, o podríamos realizar un análisis armónico y filtrar la onda de 7 días.\n",
        "\n",
        "Por otro lado podemos hacer lo mismo pero tomando medias mensuales. Esta última nos va a servir para hacer comparaciones interanuales. El NO$_2$ posee una variabilidad estacional, como discutimos en la teórica. Entonces tiene sentido comparar el abril 2020 con abril 2019.\n"
      ]
    },
    {
      "cell_type": "code",
      "execution_count": null,
      "metadata": {
        "colab": {
          "base_uri": "https://localhost:8080/",
          "height": 329
        },
        "id": "aONsgeaSuszw",
        "outputId": "0529d02e-dc26-4adf-e093-c1a5c217a519"
      },
      "outputs": [
        {
          "output_type": "stream",
          "name": "stderr",
          "text": [
            "No handles with labels found to put in legend.\n"
          ]
        },
        {
          "output_type": "execute_result",
          "data": {
            "text/plain": [
              "<matplotlib.legend.Legend at 0x7f1a0b1bdb10>"
            ]
          },
          "metadata": {},
          "execution_count": 13
        },
        {
          "output_type": "display_data",
          "data": {
            "text/plain": [
              "<Figure size 1080x288 with 1 Axes>"
            ],
            "image/png": "[encoded data removed]"
          },
          "metadata": {
            "needs_background": "light"
          }
        }
      ],
      "source": [
        "df_w['Fecha_datetime']=pd.to_datetime(df_w['Fecha_datetime'].astype(str),format='%Y-%m-%d')\n",
        "\n",
        "\n",
        "figsize=(15,4)\n",
        "plt.figure(figsize=figsize)\n",
        "plt.plot(df_w.Fecha_datetime,df_w[columna],'ro:')\n",
        "plt.suptitle('Serie semanal de '+gasname+ ' - '+ciudad)\n",
        "plt.grid(axis='y',alpha=0.4)\n",
        "plt.ylabel(gasname+ ' (mol/m2)')\n",
        "plt.legend()\n",
        "\n",
        "###Por si quieren descargar la imagen\n",
        "#plt.savefig(ciudad +'seriesemanal.png',bbox_inches='tight',dpi=500)\n",
        "#files.download(ciudad +'seriesemanal.png')"
      ]
    },
    {
      "cell_type": "markdown",
      "metadata": {
        "id": "EFW4DutfZQiu"
      },
      "source": [
        "En el gráfico de medias semanales pareciera más evidente ahora que hay un ciclo anual. Se pueden ver mínimos en los veranos y máximos en los inviernos. Esto es consistente con la biliografía.\n",
        "\n",
        "¿Qué pasa si hacemos un autocorrelograma con esa serie?"
      ]
    },
    {
      "cell_type": "code",
      "execution_count": null,
      "metadata": {
        "colab": {
          "base_uri": "https://localhost:8080/",
          "height": 312
        },
        "id": "cN1WOVP8cnK0",
        "outputId": "c208f191-6921-438b-8058-ed6859f65a16"
      },
      "outputs": [
        {
          "output_type": "execute_result",
          "data": {
            "text/plain": [
              "Text(0.5, 1.0, 'Autocorrelograma de la serie diaria')"
            ]
          },
          "metadata": {},
          "execution_count": 14
        },
        {
          "output_type": "display_data",
          "data": {
            "text/plain": [
              "<Figure size 1080x288 with 1 Axes>"
            ],
            "image/png": "[encoded data removed]"
          },
          "metadata": {
            "needs_background": "light"
          }
        }
      ],
      "source": [
        "############# parametros para tocar#########3\n",
        "N= len(df_w[columna]) #cantidad de datos\n",
        "\n",
        "lags = N//2\n",
        "pvalor =0.01\n",
        "\n",
        "###############no tocar ############\n",
        "color_significativo = 'blue'\n",
        "color_no_sig = 'white'\n",
        "figsize=(15,4)\n",
        "titulo = 'Autocorrelograma de la serie semanal'\n",
        "\n",
        "from scipy.stats import pearsonr\n",
        "\n",
        "df_autocorr_w=df_w\n",
        "for i in range(lags+1):\n",
        "    df_autocorr_w['lag_'+str(i)]=df_autocorr_w[columna].shift(i)\n",
        "\n",
        "rho=[]\n",
        "pval=[]\n",
        "for i in range(lags+1):\n",
        "    lagfila='lag_'+str(i)\n",
        "    columnas=[columna ,lagfila]\n",
        "    a=df_autocorr_w[columnas]\n",
        "    b=a.dropna()._get_numeric_data()\n",
        "    rho.append(pearsonr(b[columna], b[lagfila])[0])\n",
        "    pval.append(pearsonr(b[columna], b[lagfila])[1])\n",
        "\n",
        "rhoenmascarado=np.copy(rho)\n",
        "\n",
        "for i in range(len(pval)):\n",
        "    if pval[i]>pvalor:\n",
        "        rhoenmascarado[i]=0\n",
        "\n",
        "plt.figure(figsize=figsize)\n",
        "plt.bar(np.arange(1,lags+1),rho[1:],color=color_no_sig,edgecolor='black')\n",
        "plt.bar(np.arange(1,lags+1),rhoenmascarado[1:],color=color_significativo,edgecolor=color_significativo)\n",
        "plt.grid(color='black',alpha=0.4)\n",
        "plt.xlabel('Lags (semanas)')\n",
        "plt.title(titulo)\n",
        "\n",
        "###Por si quieren descargar la imagen\n",
        "#plt.savefig(ciudad +'acfsemanal.png',bbox_inches='tight',dpi=500)\n",
        "#files.download(ciudad +'acfsemanal.png')"
      ]
    },
    {
      "cell_type": "markdown",
      "metadata": {
        "id": "roDT5iYYe-uR"
      },
      "source": [
        "Mirando el gráfico observamos que hay una onda, en contrafase cerca de las 20 y 30 semanas y luego un máximo cerca de las 50. Sin embargo rápidamente cae la significancia estadística porque dividimos por siete la cantidad de datos total (pasamos de siete datos por semana a uno solo). Ya la serie diaria no era muy larga, por lo que la de medias semanales es aun más corta. Esto no quita que no exista una correlación anual, porque ya la habíamos visto en el autocorrelograma diario.\n",
        "\n",
        "Podríamos repetir lo mismo con la serie mensual, pero el autocorrelograma sería aun más inútil. Sin embargo para observar variaciones interanuales, de manera más descriptiva, sirve."
      ]
    },
    {
      "cell_type": "code",
      "execution_count": null,
      "metadata": {
        "colab": {
          "base_uri": "https://localhost:8080/",
          "height": 311
        },
        "id": "HEdPWz8jg917",
        "outputId": "6e7a8ee3-9ae1-4e16-98ac-c46d06e50b49"
      },
      "outputs": [
        {
          "output_type": "execute_result",
          "data": {
            "text/plain": [
              "<matplotlib.legend.Legend at 0x7f1a0b168e90>"
            ]
          },
          "metadata": {},
          "execution_count": 15
        },
        {
          "output_type": "display_data",
          "data": {
            "text/plain": [
              "<Figure size 1080x288 with 1 Axes>"
            ],
            "image/png": "[encoded data removed]"
          },
          "metadata": {
            "needs_background": "light"
          }
        }
      ],
      "source": [
        "df_m['Fecha_datetime']=pd.to_datetime(df_m['Fecha_datetime'].astype(str),format='%Y-%m-%d')\n",
        "\n",
        "CC=df_m[columna].values\n",
        "plt.figure(figsize=(15,4))\n",
        "plt.plot(df_m.Fecha_datetime,df_m[columna],'ro:')\n",
        "plt.suptitle('Serie mensual de '+gasname+ ' - '+ciudad)\n",
        "plt.grid(axis='y',alpha=0.4)\n",
        "plt.ylabel(gasname+ ' (mol/m2)')\n",
        "cuarentena=datetime.datetime.strptime('20200320', '%Y%m%d')\n",
        "plt.vlines(cuarentena,ymin=np.min(CC),ymax=np.max(CC),colors='black',linestyle='dashed',label='Comienzo de la cuarentena')\n",
        "plt.legend() \n",
        "\n",
        "###Por si quieren descargar la imagen\n",
        "#plt.savefig(ciudad +'seriemensual.png',bbox_inches='tight',dpi=500)\n",
        "#files.download(ciudad +'seriemensual.png')"
      ]
    },
    {
      "cell_type": "markdown",
      "metadata": {
        "id": "8kk9H2kVhgWP"
      },
      "source": [
        "En la figura anterior podemos ver mucho más claro el impacto de la cuarentena en la media mensual. No solo el valor medio de abril 2020 es un mínimo absoluto en el período (mes donde las restricciones fueron mucho más intensas y respetadas), sino incluso en los máximos de invierno, la emisión de NO$_2$ fue menor que el año anterior.\n",
        "\n",
        "Podemos hacer una comparación más clara ente 2019 y 2020 con un gráfico de barras."
      ]
    },
    {
      "cell_type": "code",
      "execution_count": null,
      "metadata": {
        "colab": {
          "base_uri": "https://localhost:8080/",
          "height": 265
        },
        "id": "L5tzLYRThe-x",
        "outputId": "46371039-740e-45a0-bb81-d34098477f27"
      },
      "outputs": [
        {
          "output_type": "display_data",
          "data": {
            "text/plain": [
              "<Figure size 720x288 with 1 Axes>"
            ],
            "image/png": "[encoded data removed]"
          },
          "metadata": {
            "needs_background": "light"
          }
        }
      ],
      "source": [
        "no2_2019=df_m[df_m.Year==2019][columna].values\n",
        "no2_2020=df_m[df_m.Year==2020][columna].values\n",
        "mes=['J','F','M','A','M','J','J','A','S','O','N']\n",
        "df_bar = pd.DataFrame({'2019': no2_2019[:-1],\n",
        "                    '2020': no2_2020}, index=mes)\n",
        "\n",
        "ax = df_bar.plot.bar(rot=0,color=['r','y'],figsize=(10,4))\n",
        "plt.grid(axis='y',alpha=0.5)\n",
        "\n",
        "###Por si quieren descargar la imagen\n",
        "#plt.savefig(ciudad +'seriecomparada.png',bbox_inches='tight',dpi=500)\n",
        "#files.download(ciudad +'seriecomparada.png')"
      ]
    },
    {
      "cell_type": "markdown",
      "metadata": {
        "id": "3-6saBE_jeRw"
      },
      "source": [
        "Podríamos estimar una caída porcentual en abril:\n",
        "\n",
        "$\\Delta [NO_2]=100\\times\\frac{[NO_2](abril_{2020})-[NO_2](abril_{2019})}{[NO_2](abril_{2019})}$"
      ]
    },
    {
      "cell_type": "code",
      "execution_count": null,
      "metadata": {
        "colab": {
          "base_uri": "https://localhost:8080/"
        },
        "id": "cgfM7g3zkEHJ",
        "outputId": "2b81e8db-a20c-4291-f2d2-4e33e7e18391"
      },
      "outputs": [
        {
          "output_type": "stream",
          "name": "stdout",
          "text": [
            "La variación interanual para abril 2020-2019 es: -53.14 %\n"
          ]
        }
      ],
      "source": [
        "print('La variación interanual para abril 2020-2019 es:',np.round(100*(no2_2020[3]-no2_2019[3])/no2_2019[3],2),'%')"
      ]
    },
    {
      "cell_type": "markdown",
      "source": [
        "##Distribución espacial del NO2: comparación interanual"
      ],
      "metadata": {
        "id": "z3cRnibekj__"
      }
    },
    {
      "cell_type": "markdown",
      "source": [
        "Si bien el objetivo de la actividad es analizar una serie temporal, tomando un único valor para toda una región, también está bueno analizar qué pasa con la variabilidad espacial de las emisiones (reduciendo en este caso, la dimensión temporal, por ejemplo tomando una media mensual o lo que se les ocurra).\n",
        "En este pequeño apartado tienen una rutina para obtener una matriz de emisión de no2 por pixel, con su correspondiente latitud longitud. Esta matriz es un array de numpy, que puede ser insumo para un modelo por ejemplo. "
      ],
      "metadata": {
        "id": "SMItGOsOk_mG"
      }
    },
    {
      "cell_type": "code",
      "source": [
        "##Este código es para tener una visualización espacial del no2. Vamos a tomar medias mensuales\n",
        "\n",
        "##Esto lo pueden modificar a gusto##\n",
        "\n",
        "inicio='2019-04-01'\n",
        "final ='2019-05-01' #la fecha final que sea 1 mes despues, así calcula la media mensual\n",
        "\n",
        "inicio2='2020-04-01'   ###que este mes sea el mismo, pero un año diferente, asi hacemos una comparacion interanual\n",
        "final2 ='2020-05-01'\n",
        "\n",
        "\n",
        "####De acá en adelante traten de no tocar nada a menos que tengan claro####\n",
        "\n",
        "collection=ee.ImageCollection('COPERNICUS/S5P/OFFL/L3_NO2').select('tropospheric_NO2_column_number_density').filterDate(inicio,final)\n",
        "collection2=ee.ImageCollection('COPERNICUS/S5P/OFFL/L3_NO2').select('tropospheric_NO2_column_number_density').filterDate(inicio2,final2)\n",
        "\n",
        "###si quisiéramos otra cosa que no sea la media, hay que cambiar el parámetro .mean()\n",
        "\n",
        "collection_img=collection.mean().setDefaultProjection(collection.first().projection())\n",
        "collection_img2=collection2.mean().setDefaultProjection(collection2.first().projection())\n",
        "\n",
        "####para 2019####\n",
        "\n",
        "##Este codigo es un poco un lío pero básicamente lo que hace, una vez obtenida la imagen de GEE\n",
        "##en una determinada region de interes (roi),transforma en un array de numpy y tambien\n",
        "##obtiene las matrices de lat y lon, el tema es que hay que reshapear porque viene todo en una tira de datos. \n",
        "\n",
        "latlon=ee.Image.pixelLonLat().addBands(collection_img)\n",
        "latlon_new = latlon.reduceRegion(reducer=ee.Reducer.toList(), geometry=roi, maxPixels=1e13,scale=1113.2)\n",
        "\n",
        "no2 = np.array((ee.Array(latlon_new.get('tropospheric_NO2_column_number_density')).getInfo()))\n",
        "lats = np.array((ee.Array(latlon_new.get(\"latitude\")).getInfo()))\n",
        "lons = np.array((ee.Array(latlon_new.get(\"longitude\")).getInfo()))  ##Prueben hacer lons.shape y y van a ver que es un horror.\n",
        "\n",
        "##reshape para que quede tres matrices tipo meshgrid\n",
        "uniqueLats = np.unique(lats)\n",
        "uniqueLons = np.unique(lons)\n",
        "ncols = len(uniqueLons)    \n",
        "nrows = len(uniqueLats)\n",
        "\n",
        "no2_2019=no2.reshape(nrows,ncols)\n",
        "LATS=lats.reshape(nrows,ncols)\n",
        "LONS=lons.reshape(nrows,ncols)\n",
        "\n",
        "###repetimos para 2020###\n",
        "\n",
        "##Podríamos hacer lo mismo, pero las matrices de lat y lon son  iguales. Una forma más corta\n",
        "##que permite obtener el array de los valores (pero que no nos da la lat y lon) es la funcion\n",
        "##ee.Image.sampleRectangle. Ya viene con las dimensiones correctas y no hay que reshapear\n",
        "\n",
        "no2_2020=np.array(collection_img2.sampleRectangle(roi).get('tropospheric_NO2_column_number_density').getInfo())\n",
        "\n",
        "##para tomar una unica escala de colores tomo el valor maximo de ambos arrays\n",
        "vmax=np.max([np.max(no2_2020),np.max(no2_2019)])"
      ],
      "metadata": {
        "id": "JaY9S6_LIdSO"
      },
      "execution_count": null,
      "outputs": []
    },
    {
      "cell_type": "code",
      "source": [
        "###Esta es la rutina de graficado. No rompan nada###\n",
        "\n",
        "##colores\n",
        "cmap=mpl.cm.get_cmap('seismic',100)  \n",
        "\n",
        "\n",
        "fig, axs = plt.subplots(nrows=1,ncols=2, subplot_kw={'projection': ccrs.PlateCarree()},figsize=(12,6))\n",
        "fig.subplots_adjust(top=0.89,right=0.87,wspace=0.05, hspace=0.07)\n",
        "\n",
        "plt.suptitle('Concentración media mensual de NO2 troposférico (mol/m2)',fontsize=15,y=0.93)\n",
        "\n",
        "cs=axs[0].pcolormesh(LONS,LATS,no2_2019,vmin=0,vmax=vmax, cmap=cmap)\n",
        "axs[0].add_feature(cartopy.feature.COASTLINE)\n",
        "axs[0].add_feature(cartopy.feature.BORDERS)\n",
        "axs[0].add_geometries(data.geometries(), crs=ccrs.Geodetic(), edgecolor='k', facecolor='none')\n",
        "axs[0].set_extent([np.min(LONS), np.max(LONS), np.min(LATS), np.max(LATS)])\n",
        "axs[0].set_title(inicio[:-3])\n",
        "\n",
        "axs[1].pcolormesh(LONS,LATS,no2_2020,vmin=0,vmax=vmax, cmap=cmap)\n",
        "axs[1].add_feature(cartopy.feature.COASTLINE)\n",
        "axs[1].add_feature(cartopy.feature.BORDERS)\n",
        "axs[1].add_geometries(data.geometries(), crs=ccrs.Geodetic(), edgecolor='k', facecolor='none')\n",
        "axs[1].set_extent([np.min(LONS), np.max(LONS), np.min(LATS), np.max(LATS)])\n",
        "axs[1].set_title(inicio2[:-3])\n",
        "\n",
        "cbar_ax = fig.add_axes([0.88, 0.15, 0.02, 0.7])\n",
        "fmt = matplotlib.ticker.ScalarFormatter(useMathText=True)\n",
        "fmt.set_powerlimits((0, 0))\n",
        "cbar=fig.colorbar(cs, cax=cbar_ax,ticks=np.linspace(0,vmax,10),format=fmt)\n",
        "\n",
        "###Por si quieren descargar la imagen\n",
        "#plt.savefig(ciudad +'.png',bbox_inches='tight',dpi=500)\n",
        "#files.download(ciudad +'.png')"
      ],
      "metadata": {
        "colab": {
          "base_uri": "https://localhost:8080/",
          "height": 375
        },
        "id": "v2A7cV6HWu7m",
        "outputId": "03481efd-52c7-4cae-9bca-56718d919068"
      },
      "execution_count": null,
      "outputs": [
        {
          "output_type": "display_data",
          "data": {
            "text/plain": [
              "<Figure size 864x432 with 3 Axes>"
            ],
            "image/png": "[encoded data removed]"
          },
          "metadata": {
            "needs_background": "light"
          }
        }
      ]
    }
  ],
  "metadata": {
    "colab": {
      "collapsed_sections": [],
      "name": "1-NO2.ipynb",
      "provenance": [],
      "include_colab_link": true
    },
    "kernelspec": {
      "display_name": "Python 3",
      "name": "python3"
    },
    "language_info": {
      "name": "python"
    }
  },
  "nbformat": 4,
  "nbformat_minor": 0
}